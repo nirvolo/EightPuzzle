{
 "cells": [
  {
   "cell_type": "code",
   "execution_count": 48,
   "metadata": {},
   "outputs": [],
   "source": [
    "# Creating a user interface so that the user can enter \n",
    "# their own initial state for the puzzle.\n",
    "import math\n",
    "MAX_SIZE = 100\n",
    "\n",
    "def main():\n",
    "    # TODO: Right now it fails if user make mistakes\n",
    "    # Check size to be an integer square - 1, use try except on rows input\n",
    "    square_less_1 = [x**2-1 for x in range(2, 11, 1)]\n",
    "    size = int(input(\"This is an N-puzzle solver. Please choose size of game \" \\\n",
    "                     f\"(can only be N^2-1, e.g. {square_less_1}) no larger than {MAX_SIZE}:\"))\n",
    "    if size > MAX_SIZE:\n",
    "        print(\"Size is too large, please try again\")\n",
    "        return\n",
    "    if size not in square_less_1:\n",
    "        print('Size game entered is not an integer square - 1, please try again')\n",
    "        return\n",
    "    N = int(math.sqrt(size+1))\n",
    "    puzzle_type = input(\"Press 1 to create your own puzzle or 2 for a default puzzle:\")\n",
    "    if puzzle_type == '1':\n",
    "        print(\"When entering your puzzle, make sure to enter 0 for the blank space and use spaces between numbers:\")\n",
    "        # Creating an empty NxN matrix for the user to create the initial state\n",
    "        try:\n",
    "            mat = [N*[0] for i in range(N)]\n",
    "            # Iterating over each row in the matrix\n",
    "            for i in range(N):\n",
    "                mat[i] = input(f\"Enter row {str(i)}: \")\n",
    "            #print(mat)\n",
    "            # Since the input the user gives for the puzzle is a string,\n",
    "            # we need to convert the elements of this puzzle to integers.\n",
    "            for j in range(N):\n",
    "                splt_row = mat[j].split()\n",
    "                mat[j] = [int(splt_row[k]) for k in range(N)]\n",
    "#                 print(mat[j])\n",
    "        except:\n",
    "            print(\"Please pay attention to the format required\")\n",
    "            return\n",
    "    if puzzle_type == '2':\n",
    "        pass\n",
    "        # call function that will run search with default puzzle. \n",
    "        # maybe give options for the difficulty of default puzzle.\n",
    "        \n",
    "    print(f\"This is the starting state:\")\n",
    "    for i in range(N):\n",
    "        print(mat[i])\n",
    "        \n",
    "    # Ask user for:\n",
    "    # Algorithm\n",
    "    # Would you like a print of the best sequence of moves y/n - into PRINT_MOVES\n",
    "    # Would you like a full trace of the algorithm? NOTE: this could be pretty long - into PRINT_TRACE"
   ]
  },
  {
   "cell_type": "code",
   "execution_count": 49,
   "metadata": {},
   "outputs": [
    {
     "name": "stdout",
     "output_type": "stream",
     "text": [
      "This is an N-puzzle solver. Please choose size of game (can only be N^2-1, e.g. [3, 8, 15, 24, 35, 48, 63, 80, 99]) no larger than 100:8\n",
      "Press 1 to create your own puzzle or 2 for a default puzzle:1\n",
      "When entering your puzzle, make sure to enter 0 for the blank space and use spaces between numbers:\n",
      "Enter row 0: 1 2 3\n",
      "Enter row 1: 1 2 3\n",
      "Enter row 2: 1 2 3\n",
      "This is the starting state:\n",
      "[1, 2, 3]\n",
      "[1, 2, 3]\n",
      "[1, 2, 3]\n"
     ]
    }
   ],
   "source": [
    "main()"
   ]
  },
  {
   "cell_type": "code",
   "execution_count": null,
   "metadata": {},
   "outputs": [],
   "source": [
    "s = '1 1 1'\n",
    "[int(s.split()[i]) for i in range(3)]"
   ]
  },
  {
   "cell_type": "code",
   "execution_count": null,
   "metadata": {},
   "outputs": [],
   "source": [
    "a = input(\"what option?\")"
   ]
  },
  {
   "cell_type": "code",
   "execution_count": null,
   "metadata": {},
   "outputs": [],
   "source": [
    "[N*[0] for i in range(N)]"
   ]
  },
  {
   "cell_type": "code",
   "execution_count": null,
   "metadata": {
    "collapsed": true
   },
   "outputs": [],
   "source": [
    "# Creating a function that will create the goal state based\n",
    "# on the number of dimensions that the user gives it.\n",
    "# Arguments:\n",
    "# N: The number of rows and columns for the square matrix.\n",
    "def puzzle(N):\n",
    "    # Creating an matrix of dimension NxN with all 0's\n",
    "    mat = [N*[0] for i in range(N)]\n",
    "    # Iterating over all rows\n",
    "    for r in range(N):\n",
    "        # For each row, iterating over each column\n",
    "        for c in range(N):\n",
    "            #print(r,c)\n",
    "            # Assigning the corresponding value of the puzzle\n",
    "            # by using the following formula.\n",
    "            mat[r][c] = N*r + c%N + 1\n",
    "            \n",
    "    # Based on the formula used for each element above, the [N,N] position\n",
    "    # will contain (N+1) but we want it to be 0 to represent an empty space\n",
    "    mat[N-1][N-1] = 0\n",
    "    \n",
    "    return mat"
   ]
  },
  {
   "cell_type": "code",
   "execution_count": null,
   "metadata": {},
   "outputs": [],
   "source": [
    "puzzle(2)"
   ]
  },
  {
   "cell_type": "code",
   "execution_count": null,
   "metadata": {},
   "outputs": [],
   "source": [
    "a = puzzle(3)\n",
    "a[1]"
   ]
  },
  {
   "cell_type": "code",
   "execution_count": null,
   "metadata": {},
   "outputs": [],
   "source": [
    "import copy\n",
    "b = copy.deepcopy(a)\n",
    "b[0][0]=100\n",
    "b"
   ]
  },
  {
   "cell_type": "code",
   "execution_count": null,
   "metadata": {},
   "outputs": [],
   "source": [
    "def mm(mat_src):\n",
    "    mat = copy.deepcopy(mat_src)\n",
    "    mat[0][0] = 200\n",
    "    return mat"
   ]
  },
  {
   "cell_type": "code",
   "execution_count": null,
   "metadata": {
    "collapsed": true
   },
   "outputs": [],
   "source": [
    "b = mm(a)"
   ]
  },
  {
   "cell_type": "code",
   "execution_count": null,
   "metadata": {},
   "outputs": [],
   "source": [
    "a"
   ]
  },
  {
   "cell_type": "code",
   "execution_count": null,
   "metadata": {},
   "outputs": [],
   "source": [
    "b"
   ]
  },
  {
   "cell_type": "code",
   "execution_count": null,
   "metadata": {
    "collapsed": true
   },
   "outputs": [],
   "source": [
    "# This function creates a dictionary with the correct indices for each of \n",
    "# the tiles in the given state.\n",
    "def mat2dict(mat):\n",
    "    # Defining an intial empty dictiory\n",
    "    goal_dict = {}\n",
    "    # The dimension of mat\n",
    "    n = len(mat)\n",
    "    # Iterating over each element in the matrix\n",
    "    for i in range(n):\n",
    "        for j in range(n):\n",
    "            # The value of the i,j tile\n",
    "            tile = mat[i][j]\n",
    "            #print(tile)\n",
    "            # For each tile, assign its corresponding indices\n",
    "            goal_dict[tile] = [i,j]\n",
    "    \n",
    "    return goal_dict"
   ]
  },
  {
   "cell_type": "code",
   "execution_count": null,
   "metadata": {
    "collapsed": true
   },
   "outputs": [],
   "source": []
  },
  {
   "cell_type": "code",
   "execution_count": null,
   "metadata": {},
   "outputs": [],
   "source": [
    "# Testing the function mat2dict\n",
    "mat2dict(puzzle(2))"
   ]
  },
  {
   "cell_type": "code",
   "execution_count": null,
   "metadata": {},
   "outputs": [],
   "source": [
    "10//3"
   ]
  },
  {
   "cell_type": "code",
   "execution_count": null,
   "metadata": {
    "collapsed": true
   },
   "outputs": [],
   "source": [
    "# Creating a function for the A* algorithm that will work for \n",
    "# uniform cost search, the misplaced tile heuristic and the \n",
    "# manhatten distance heuristic.\n",
    "# The arguments for the function are:\n",
    "# goal_mat: The goal state for the puzzle\n",
    "# start_mat: The puzzle that we are starting the search with.\n",
    "# g: A cost function\n",
    "# h: A heuristic function\n",
    "def astar(goal_mat, start_mat, g, h):\n",
    "    # defining the cost that w"
   ]
  },
  {
   "cell_type": "code",
   "execution_count": null,
   "metadata": {
    "collapsed": true
   },
   "outputs": [],
   "source": [
    "def h_0(crnt, goal):\n",
    "    return 0"
   ]
  },
  {
   "cell_type": "code",
   "execution_count": null,
   "metadata": {
    "collapsed": true
   },
   "outputs": [],
   "source": [
    "def h_misplace(crnt, goal):\n",
    "    # number of rows and columns in crnt\n",
    "    n = len(crnt)\n",
    "    # Counter for the number of misplaced tiles\n",
    "    misplace = 0\n",
    "    # iterating over all elements in the crnt and goal matrices\n",
    "    for i in range(n):\n",
    "        for j in range(n):\n",
    "            print(crnt[i][j], goal[i][j])\n",
    "            # Checking to see if the i,j element in crnt state \n",
    "            # is in the right place or not. Including a condition\n",
    "            # that the misplaced element can't equal 0 since this\n",
    "            # heuristic doesn't consider it as misplaced.\n",
    "            if crnt[i][j] != goal[i][j] and crnt[i][j] != 0:\n",
    "                # Each time we have a misplaced tile, misplace increases by 1\n",
    "                misplace += 1\n",
    "    return misplace"
   ]
  },
  {
   "cell_type": "code",
   "execution_count": null,
   "metadata": {},
   "outputs": [],
   "source": [
    "state = [[1,2,4],[3,0,6],[7,8,5]]\n",
    "h_misplace(state, puzzle(3))"
   ]
  },
  {
   "cell_type": "code",
   "execution_count": null,
   "metadata": {
    "collapsed": true
   },
   "outputs": [],
   "source": [
    "def h_manhatt(crnt, goal):\n",
    "    # Dimension of crnt and goal\n",
    "    n = len(crnt)\n",
    "    # Creating a variable for the manhattan distance\n",
    "    manhatt_dist = 0\n",
    "    # Iterating over all elements in the matrix\n",
    "    for i in range(n):\n",
    "        for j in range(n):\n",
    "            # Don't want to calculate manhattan distance for tile 0\n",
    "            if crnt[i][j] != 0:\n",
    "                # The value of the i,j tile in crnt\n",
    "                tile = crnt[i][j]\n",
    "                # The correct indices based on the goal state\n",
    "                # for the value tile\n",
    "                crct_ind = mat2dict(goal)[tile]\n",
    "                # Calculating the manhattan distance\n",
    "                manhatt_dist += abs(i - crct_ind[0]) + abs(j - crct_ind[1])\n",
    "    return manhatt_dist"
   ]
  },
  {
   "cell_type": "code",
   "execution_count": null,
   "metadata": {},
   "outputs": [],
   "source": [
    "# Testing h_manhatt\n",
    "state = [[1,2,3],[5,4,6],[7,8,0]]\n",
    "h_manhatt(state, puzzle(3))\n",
    "#state"
   ]
  },
  {
   "cell_type": "code",
   "execution_count": null,
   "metadata": {
    "collapsed": true
   },
   "outputs": [],
   "source": [
    "# This function determines the next possible moves based on the \n",
    "# current state in the search.\n",
    "def next_move(crnt):\n",
    "    # Creating a dictionary of pieces and their corresponding indices\n",
    "    # so that we can identify the indices of 0, the blank space.\n",
    "    crnt_dict = mat2dict(crnt)\n",
    "    # The indices of the blank space 0\n",
    "    blank_ind = crnt_dict[0]"
   ]
  },
  {
   "cell_type": "code",
   "execution_count": null,
   "metadata": {
    "collapsed": true
   },
   "outputs": [],
   "source": [
    "# Function that determines whether or not the search has \n",
    "# reached the goal state given the current state.\n",
    "# Arguments:\n",
    "# crnt: The current state in the search.\n",
    "# goal: the goal state of the search.\n",
    "# Return:\n",
    "# \n",
    "def goal_state(crnt, goal):\n",
    "    # Compares the crnt and goal matrices to determine if they \n",
    "    # are equivalent.\n",
    "    return(crnt == goal)"
   ]
  },
  {
   "cell_type": "code",
   "execution_count": null,
   "metadata": {},
   "outputs": [],
   "source": [
    "mat = [[1,0],[0,1]]\n",
    "mat[0]"
   ]
  },
  {
   "cell_type": "code",
   "execution_count": null,
   "metadata": {},
   "outputs": [],
   "source": [
    "abs(44)"
   ]
  },
  {
   "cell_type": "code",
   "execution_count": null,
   "metadata": {},
   "outputs": [],
   "source": [
    "N=3\n",
    "mat = [3*[0] for i in range(N)]\n",
    "mat"
   ]
  },
  {
   "cell_type": "code",
   "execution_count": null,
   "metadata": {},
   "outputs": [],
   "source": [
    "mat[0][0] = 1\n",
    "mat[2][2] = 4\n",
    "mat"
   ]
  },
  {
   "cell_type": "code",
   "execution_count": null,
   "metadata": {},
   "outputs": [],
   "source": [
    "mat1 = [3*[0] for i in range(N)]\n",
    "mat1"
   ]
  },
  {
   "cell_type": "code",
   "execution_count": null,
   "metadata": {},
   "outputs": [],
   "source": [
    "mat1 == mat"
   ]
  },
  {
   "cell_type": "code",
   "execution_count": null,
   "metadata": {
    "collapsed": true
   },
   "outputs": [],
   "source": [
    "mat[0][0] = 12"
   ]
  },
  {
   "cell_type": "code",
   "execution_count": null,
   "metadata": {},
   "outputs": [],
   "source": [
    "mat1"
   ]
  },
  {
   "cell_type": "code",
   "execution_count": null,
   "metadata": {},
   "outputs": [],
   "source": [
    "cars = ['kia', 'audi', 'bmw']\n",
    "for car in enumerate(cars):\n",
    "  print(car)"
   ]
  },
  {
   "cell_type": "code",
   "execution_count": null,
   "metadata": {
    "collapsed": true
   },
   "outputs": [],
   "source": [
    "dic = {1:[0,0], 2:[0,1]}"
   ]
  },
  {
   "cell_type": "code",
   "execution_count": null,
   "metadata": {
    "collapsed": true
   },
   "outputs": [],
   "source": [
    "dic[1] = 1"
   ]
  },
  {
   "cell_type": "code",
   "execution_count": null,
   "metadata": {},
   "outputs": [],
   "source": [
    "dic"
   ]
  },
  {
   "cell_type": "code",
   "execution_count": null,
   "metadata": {
    "collapsed": true
   },
   "outputs": [],
   "source": []
  }
 ],
 "metadata": {
  "kernelspec": {
   "display_name": "Python 3",
   "language": "python",
   "name": "python3"
  },
  "language_info": {
   "codemirror_mode": {
    "name": "ipython",
    "version": 3
   },
   "file_extension": ".py",
   "mimetype": "text/x-python",
   "name": "python",
   "nbconvert_exporter": "python",
   "pygments_lexer": "ipython3",
   "version": "3.6.5"
  }
 },
 "nbformat": 4,
 "nbformat_minor": 2
}
