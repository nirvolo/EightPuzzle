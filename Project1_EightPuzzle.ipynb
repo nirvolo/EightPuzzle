{
 "cells": [
  {
   "cell_type": "code",
   "execution_count": 16,
   "metadata": {},
   "outputs": [],
   "source": [
    "import treenode\n",
    "import heapq as min_heap_esque_queue                              "
   ]
  },
  {
   "cell_type": "code",
   "execution_count": 17,
   "metadata": {
    "collapsed": true
   },
   "outputs": [],
   "source": [
    "treenode?"
   ]
  },
  {
   "cell_type": "code",
   "execution_count": 20,
   "metadata": {
    "collapsed": true
   },
   "outputs": [],
   "source": [
    "treenode.TreeNode?"
   ]
  },
  {
   "cell_type": "code",
   "execution_count": 58,
   "metadata": {},
   "outputs": [],
   "source": [
    "# Creating a function that will create the goal state based\n",
    "# on the number of dimensions that the user gives it.\n",
    "# Arguments:\n",
    "# N: The number of rows and columns for the square matrix.\n",
    "def puzzle(N):\n",
    "    # Creating an matrix of dimension NxN with all 0's\n",
    "    mat = [N*[0] for i in range(N)]\n",
    "    # Iterating over all rows\n",
    "    for r in range(N):\n",
    "        # For each row, iterating over each column\n",
    "        for c in range(N):\n",
    "            #print(r,c)\n",
    "            # Assigning the corresponding value of the puzzle\n",
    "            # by using the following formula.\n",
    "            mat[r][c] = N*r + c%N + 1\n",
    "            \n",
    "    # Based on the formula used for each element above, the [N,N] position\n",
    "    # will contain (N+1) but we want it to be 0 to represent an empty space\n",
    "    mat[N-1][N-1] = 0\n",
    "    \n",
    "    return mat"
   ]
  },
  {
   "cell_type": "code",
   "execution_count": 60,
   "metadata": {},
   "outputs": [
    {
     "data": {
      "text/plain": [
       "[[1, 2, 3, 4, 5, 6, 7, 8, 9, 10],\n",
       " [11, 12, 13, 14, 15, 16, 17, 18, 19, 20],\n",
       " [21, 22, 23, 24, 25, 26, 27, 28, 29, 30],\n",
       " [31, 32, 33, 34, 35, 36, 37, 38, 39, 40],\n",
       " [41, 42, 43, 44, 45, 46, 47, 48, 49, 50],\n",
       " [51, 52, 53, 54, 55, 56, 57, 58, 59, 60],\n",
       " [61, 62, 63, 64, 65, 66, 67, 68, 69, 70],\n",
       " [71, 72, 73, 74, 75, 76, 77, 78, 79, 80],\n",
       " [81, 82, 83, 84, 85, 86, 87, 88, 89, 90],\n",
       " [91, 92, 93, 94, 95, 96, 97, 98, 99, 0]]"
      ]
     },
     "execution_count": 60,
     "metadata": {},
     "output_type": "execute_result"
    }
   ],
   "source": [
    "# Testing the puzzle function\n",
    "puzzle(10)"
   ]
  },
  {
   "cell_type": "code",
   "execution_count": null,
   "metadata": {
    "collapsed": true
   },
   "outputs": [],
   "source": [
    "# Creating a function for the A* algorithm that will work for \n",
    "# uniform cost search, the misplaced tile heuristic and the \n",
    "# manhatten distance heuristic.\n",
    "# The arguments for the function are:\n",
    "# goal_mat: The goal state for the puzzle\n",
    "# start_mat: The puzzle that we are starting the search with.\n",
    "# g: A cost function\n",
    "# h: A heuristic function\n",
    "def astar(goal_mat, start_mat, g, h):\n",
    "    # defining the cost that w"
   ]
  },
  {
   "cell_type": "code",
   "execution_count": null,
   "metadata": {
    "collapsed": true
   },
   "outputs": [],
   "source": [
    "def h_0(crnt, goal):\n",
    "    return 0"
   ]
  },
  {
   "cell_type": "code",
   "execution_count": null,
   "metadata": {
    "collapsed": true
   },
   "outputs": [],
   "source": [
    "def h_misplace(crnt, goal):\n",
    "    .....\n",
    "    return dist"
   ]
  },
  {
   "cell_type": "code",
   "execution_count": null,
   "metadata": {
    "collapsed": true
   },
   "outputs": [],
   "source": [
    "def h_manhatt(crnt, goal):\n",
    "    .....\n",
    "    return dist"
   ]
  },
  {
   "cell_type": "code",
   "execution_count": null,
   "metadata": {
    "collapsed": true
   },
   "outputs": [],
   "source": [
    "# Function that determines whether or not the search has \n",
    "# reached the goal state given the current state.\n",
    "# Arguments:\n",
    "# crnt: The current state in the search.\n",
    "# goal: the goal state of the search.\n",
    "# Return:\n",
    "# \n",
    "def goal_state(crnt, goal):\n",
    "    # Compares the crnt and goal matrices to determine if they \n",
    "    # are equivalent.\n",
    "    return(crnt == goal)"
   ]
  },
  {
   "cell_type": "code",
   "execution_count": 27,
   "metadata": {},
   "outputs": [
    {
     "data": {
      "text/plain": [
       "[1, 0]"
      ]
     },
     "execution_count": 27,
     "metadata": {},
     "output_type": "execute_result"
    }
   ],
   "source": [
    "mat = [[1,0],[0,1]]\n",
    "mat[0]"
   ]
  },
  {
   "cell_type": "code",
   "execution_count": 2,
   "metadata": {},
   "outputs": [
    {
     "data": {
      "text/plain": [
       "3"
      ]
     },
     "execution_count": 2,
     "metadata": {},
     "output_type": "execute_result"
    }
   ],
   "source": [
    "15%12"
   ]
  },
  {
   "cell_type": "code",
   "execution_count": 31,
   "metadata": {},
   "outputs": [
    {
     "data": {
      "text/plain": [
       "[[0, 0, 0], [0, 0, 0], [0, 0, 0]]"
      ]
     },
     "execution_count": 31,
     "metadata": {},
     "output_type": "execute_result"
    }
   ],
   "source": [
    "N=3\n",
    "mat = [3*[0] for i in range(N)]\n",
    "mat"
   ]
  },
  {
   "cell_type": "code",
   "execution_count": 34,
   "metadata": {},
   "outputs": [
    {
     "data": {
      "text/plain": [
       "[[1, 0, 0], [0, 0, 0], [0, 0, 4]]"
      ]
     },
     "execution_count": 34,
     "metadata": {},
     "output_type": "execute_result"
    }
   ],
   "source": [
    "mat[0][0] = 1\n",
    "mat[2][2] = 4\n",
    "mat"
   ]
  },
  {
   "cell_type": "code",
   "execution_count": 32,
   "metadata": {},
   "outputs": [
    {
     "data": {
      "text/plain": [
       "[[0, 0, 0], [0, 0, 0], [0, 0, 0]]"
      ]
     },
     "execution_count": 32,
     "metadata": {},
     "output_type": "execute_result"
    }
   ],
   "source": [
    "mat1 = [3*[0] for i in range(N)]\n",
    "mat1"
   ]
  },
  {
   "cell_type": "code",
   "execution_count": 35,
   "metadata": {},
   "outputs": [
    {
     "data": {
      "text/plain": [
       "False"
      ]
     },
     "execution_count": 35,
     "metadata": {},
     "output_type": "execute_result"
    }
   ],
   "source": [
    "mat1 == mat"
   ]
  },
  {
   "cell_type": "code",
   "execution_count": 23,
   "metadata": {
    "collapsed": true
   },
   "outputs": [],
   "source": [
    "mat[0][0] = 12"
   ]
  },
  {
   "cell_type": "code",
   "execution_count": 25,
   "metadata": {},
   "outputs": [
    {
     "data": {
      "text/plain": [
       "[[12, 0, 0], [0, 0, 0], [0, 0, 4]]"
      ]
     },
     "execution_count": 25,
     "metadata": {},
     "output_type": "execute_result"
    }
   ],
   "source": [
    "mat1"
   ]
  },
  {
   "cell_type": "code",
   "execution_count": 67,
   "metadata": {},
   "outputs": [
    {
     "name": "stdout",
     "output_type": "stream",
     "text": [
      "(0, 'kia')\n",
      "(1, 'audi')\n",
      "(2, 'bmw')\n"
     ]
    }
   ],
   "source": [
    "cars = ['kia', 'audi', 'bmw']\n",
    "for car in enumerate(cars):\n",
    "  print(car)"
   ]
  },
  {
   "cell_type": "code",
   "execution_count": 73,
   "metadata": {
    "collapsed": true
   },
   "outputs": [],
   "source": [
    "dic = {1:[0,0], 2:[0,1]}"
   ]
  },
  {
   "cell_type": "code",
   "execution_count": 74,
   "metadata": {},
   "outputs": [
    {
     "data": {
      "text/plain": [
       "{1: [0, 0], 2: [0, 1]}"
      ]
     },
     "execution_count": 74,
     "metadata": {},
     "output_type": "execute_result"
    }
   ],
   "source": [
    "dic"
   ]
  },
  {
   "cell_type": "code",
   "execution_count": 76,
   "metadata": {},
   "outputs": [
    {
     "data": {
      "text/plain": [
       "0"
      ]
     },
     "execution_count": 76,
     "metadata": {},
     "output_type": "execute_result"
    }
   ],
   "source": [
    "dic[1][1]"
   ]
  },
  {
   "cell_type": "code",
   "execution_count": null,
   "metadata": {
    "collapsed": true
   },
   "outputs": [],
   "source": []
  }
 ],
 "metadata": {
  "kernelspec": {
   "display_name": "Python 3",
   "language": "python",
   "name": "python3"
  },
  "language_info": {
   "codemirror_mode": {
    "name": "ipython",
    "version": 3
   },
   "file_extension": ".py",
   "mimetype": "text/x-python",
   "name": "python",
   "nbconvert_exporter": "python",
   "pygments_lexer": "ipython3",
   "version": "3.6.5"
  }
 },
 "nbformat": 4,
 "nbformat_minor": 2
}
