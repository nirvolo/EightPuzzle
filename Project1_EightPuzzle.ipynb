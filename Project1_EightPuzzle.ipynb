{
 "cells": [
  {
   "cell_type": "code",
   "execution_count": 112,
   "metadata": {
    "collapsed": true
   },
   "outputs": [],
   "source": [
    "# Creating a function that will create the goal state based\n",
    "# on the number of dimensions that the user gives it.\n",
    "# Arguments:\n",
    "# N: The number of rows and columns for the square matrix.\n",
    "def puzzle(N):\n",
    "    # Creating an matrix of dimension NxN with all 0's\n",
    "    mat = [N*[0] for i in range(N)]\n",
    "    # Iterating over all rows\n",
    "    for r in range(N):\n",
    "        # For each row, iterating over each column\n",
    "        for c in range(N):\n",
    "            #print(r,c)\n",
    "            # Assigning the corresponding value of the puzzle\n",
    "            # by using the following formula.\n",
    "            mat[r][c] = N*r + c%N + 1\n",
    "            \n",
    "    # Based on the formula used for each element above, the [N,N] position\n",
    "    # will contain (N+1) but we want it to be 0 to represent an empty space\n",
    "    mat[N-1][N-1] = 0\n",
    "    \n",
    "    return mat"
   ]
  },
  {
   "cell_type": "code",
   "execution_count": 113,
   "metadata": {},
   "outputs": [
    {
     "data": {
      "text/plain": [
       "[[1, 2], [3, 0]]"
      ]
     },
     "execution_count": 113,
     "metadata": {},
     "output_type": "execute_result"
    }
   ],
   "source": [
    "puzzle(2)"
   ]
  },
  {
   "cell_type": "code",
   "execution_count": 115,
   "metadata": {
    "collapsed": true
   },
   "outputs": [],
   "source": [
    "# This function creates a dictionary with the correct indices for each of \n",
    "# the tiles in the given state.\n",
    "def mat2dict(mat):\n",
    "    # Defining an intial empty dictiory\n",
    "    goal_dict = {}\n",
    "    # The dimension of mat\n",
    "    n = len(mat)\n",
    "    # Iterating over each element in the matrix\n",
    "    for i in range(n):\n",
    "        for j in range(n):\n",
    "            # The value of the i,j tile\n",
    "            tile = mat[i][j]\n",
    "            #print(tile)\n",
    "            # For each tile, assign its corresponding indices\n",
    "            goal_dict[tile] = [i,j]\n",
    "    \n",
    "    return goal_dict"
   ]
  },
  {
   "cell_type": "code",
   "execution_count": 116,
   "metadata": {},
   "outputs": [
    {
     "data": {
      "text/plain": [
       "{0: [1, 1], 1: [0, 0], 2: [0, 1], 3: [1, 0]}"
      ]
     },
     "execution_count": 116,
     "metadata": {},
     "output_type": "execute_result"
    }
   ],
   "source": [
    "# Testing the function mat2dict\n",
    "mat2dict(puzzle(2))"
   ]
  },
  {
   "cell_type": "code",
   "execution_count": 66,
   "metadata": {},
   "outputs": [
    {
     "data": {
      "text/plain": [
       "3"
      ]
     },
     "execution_count": 66,
     "metadata": {},
     "output_type": "execute_result"
    }
   ],
   "source": [
    "10//3"
   ]
  },
  {
   "cell_type": "code",
   "execution_count": null,
   "metadata": {
    "collapsed": true
   },
   "outputs": [],
   "source": [
    "# Creating a function for the A* algorithm that will work for \n",
    "# uniform cost search, the misplaced tile heuristic and the \n",
    "# manhatten distance heuristic.\n",
    "# The arguments for the function are:\n",
    "# goal_mat: The goal state for the puzzle\n",
    "# start_mat: The puzzle that we are starting the search with.\n",
    "# g: A cost function\n",
    "# h: A heuristic function\n",
    "def astar(goal_mat, start_mat, g, h):\n",
    "    # defining the cost that w"
   ]
  },
  {
   "cell_type": "code",
   "execution_count": null,
   "metadata": {
    "collapsed": true
   },
   "outputs": [],
   "source": [
    "def h_0(crnt, goal):\n",
    "    return 0"
   ]
  },
  {
   "cell_type": "code",
   "execution_count": 117,
   "metadata": {
    "collapsed": true
   },
   "outputs": [],
   "source": [
    "def h_misplace(crnt, goal):\n",
    "    # number of rows and columns in crnt\n",
    "    n = len(crnt)\n",
    "    # Counter for the number of misplaced tiles\n",
    "    misplace = 0\n",
    "    # iterating over all elements in the crnt and goal matrices\n",
    "    for i in range(n):\n",
    "        for j in range(n):\n",
    "            print(crnt[i][j], goal[i][j])\n",
    "            # Checking to see if the i,j element in crnt state \n",
    "            # is in the right place or not. Including a condition\n",
    "            # that the misplaced element can't equal 0 since this\n",
    "            # heuristic doesn't consider it as misplaced.\n",
    "            if crnt[i][j] != goal[i][j] and crnt[i][j] != 0:\n",
    "                # Each time we have a misplaced tile, misplace increases by 1\n",
    "                misplace += 1\n",
    "    return misplace"
   ]
  },
  {
   "cell_type": "code",
   "execution_count": 141,
   "metadata": {},
   "outputs": [
    {
     "name": "stdout",
     "output_type": "stream",
     "text": [
      "1 1\n",
      "2 2\n",
      "4 3\n",
      "3 4\n",
      "0 5\n",
      "6 6\n",
      "7 7\n",
      "8 8\n",
      "5 0\n"
     ]
    },
    {
     "data": {
      "text/plain": [
       "3"
      ]
     },
     "execution_count": 141,
     "metadata": {},
     "output_type": "execute_result"
    }
   ],
   "source": [
    "state = [[1,2,4],[3,0,6],[7,8,5]]\n",
    "h_misplace(state, puzzle(3))"
   ]
  },
  {
   "cell_type": "code",
   "execution_count": 152,
   "metadata": {
    "collapsed": true
   },
   "outputs": [],
   "source": [
    "def h_manhatt(crnt, goal):\n",
    "    # Dimension of crnt and goal\n",
    "    n = len(crnt)\n",
    "    # Creating a variable for the manhattan distance\n",
    "    manhatt_dist = 0\n",
    "    # Iterating over all elements in the matrix\n",
    "    for i in range(n):\n",
    "        for j in range(n):\n",
    "            # Don't want to calculate manhattan distance for tile 0\n",
    "            if crnt[i][j] != 0:\n",
    "                # The value of the i,j tile in crnt\n",
    "                tile = crnt[i][j]\n",
    "                # The correct indices based on the goal state\n",
    "                # for the value tile\n",
    "                crct_ind = mat2dict(goal)[tile]\n",
    "                # Calculating the manhattan distance\n",
    "                manhatt_dist += abs(i - crct_ind[0]) + abs(j - crct_ind[1])\n",
    "    return manhatt_dist"
   ]
  },
  {
   "cell_type": "code",
   "execution_count": 153,
   "metadata": {},
   "outputs": [
    {
     "data": {
      "text/plain": [
       "8"
      ]
     },
     "execution_count": 153,
     "metadata": {},
     "output_type": "execute_result"
    }
   ],
   "source": [
    "# Testing h_manhatt\n",
    "state = [[1,2,3],[5,4,6],[7,8,0]]\n",
    "h_manhatt(state, puzzle(3))\n",
    "#state"
   ]
  },
  {
   "cell_type": "code",
   "execution_count": null,
   "metadata": {
    "collapsed": true
   },
   "outputs": [],
   "source": [
    "# Function that determines whether or not the search has \n",
    "# reached the goal state given the current state.\n",
    "# Arguments:\n",
    "# crnt: The current state in the search.\n",
    "# goal: the goal state of the search.\n",
    "# Return:\n",
    "# \n",
    "def goal_state(crnt, goal):\n",
    "    # Compares the crnt and goal matrices to determine if they \n",
    "    # are equivalent.\n",
    "    return(crnt == goal)"
   ]
  },
  {
   "cell_type": "code",
   "execution_count": 27,
   "metadata": {},
   "outputs": [
    {
     "data": {
      "text/plain": [
       "[1, 0]"
      ]
     },
     "execution_count": 27,
     "metadata": {},
     "output_type": "execute_result"
    }
   ],
   "source": [
    "mat = [[1,0],[0,1]]\n",
    "mat[0]"
   ]
  },
  {
   "cell_type": "code",
   "execution_count": 135,
   "metadata": {},
   "outputs": [
    {
     "data": {
      "text/plain": [
       "44"
      ]
     },
     "execution_count": 135,
     "metadata": {},
     "output_type": "execute_result"
    }
   ],
   "source": [
    "abs(44)"
   ]
  },
  {
   "cell_type": "code",
   "execution_count": 31,
   "metadata": {},
   "outputs": [
    {
     "data": {
      "text/plain": [
       "[[0, 0, 0], [0, 0, 0], [0, 0, 0]]"
      ]
     },
     "execution_count": 31,
     "metadata": {},
     "output_type": "execute_result"
    }
   ],
   "source": [
    "N=3\n",
    "mat = [3*[0] for i in range(N)]\n",
    "mat"
   ]
  },
  {
   "cell_type": "code",
   "execution_count": 34,
   "metadata": {},
   "outputs": [
    {
     "data": {
      "text/plain": [
       "[[1, 0, 0], [0, 0, 0], [0, 0, 4]]"
      ]
     },
     "execution_count": 34,
     "metadata": {},
     "output_type": "execute_result"
    }
   ],
   "source": [
    "mat[0][0] = 1\n",
    "mat[2][2] = 4\n",
    "mat"
   ]
  },
  {
   "cell_type": "code",
   "execution_count": 32,
   "metadata": {},
   "outputs": [
    {
     "data": {
      "text/plain": [
       "[[0, 0, 0], [0, 0, 0], [0, 0, 0]]"
      ]
     },
     "execution_count": 32,
     "metadata": {},
     "output_type": "execute_result"
    }
   ],
   "source": [
    "mat1 = [3*[0] for i in range(N)]\n",
    "mat1"
   ]
  },
  {
   "cell_type": "code",
   "execution_count": 35,
   "metadata": {},
   "outputs": [
    {
     "data": {
      "text/plain": [
       "False"
      ]
     },
     "execution_count": 35,
     "metadata": {},
     "output_type": "execute_result"
    }
   ],
   "source": [
    "mat1 == mat"
   ]
  },
  {
   "cell_type": "code",
   "execution_count": 23,
   "metadata": {
    "collapsed": true
   },
   "outputs": [],
   "source": [
    "mat[0][0] = 12"
   ]
  },
  {
   "cell_type": "code",
   "execution_count": 25,
   "metadata": {},
   "outputs": [
    {
     "data": {
      "text/plain": [
       "[[12, 0, 0], [0, 0, 0], [0, 0, 4]]"
      ]
     },
     "execution_count": 25,
     "metadata": {},
     "output_type": "execute_result"
    }
   ],
   "source": [
    "mat1"
   ]
  },
  {
   "cell_type": "code",
   "execution_count": 67,
   "metadata": {},
   "outputs": [
    {
     "name": "stdout",
     "output_type": "stream",
     "text": [
      "(0, 'kia')\n",
      "(1, 'audi')\n",
      "(2, 'bmw')\n"
     ]
    }
   ],
   "source": [
    "cars = ['kia', 'audi', 'bmw']\n",
    "for car in enumerate(cars):\n",
    "  print(car)"
   ]
  },
  {
   "cell_type": "code",
   "execution_count": 73,
   "metadata": {
    "collapsed": true
   },
   "outputs": [],
   "source": [
    "dic = {1:[0,0], 2:[0,1]}"
   ]
  },
  {
   "cell_type": "code",
   "execution_count": 97,
   "metadata": {
    "collapsed": true
   },
   "outputs": [],
   "source": [
    "dic[1] = 1"
   ]
  },
  {
   "cell_type": "code",
   "execution_count": 98,
   "metadata": {},
   "outputs": [
    {
     "data": {
      "text/plain": [
       "{1: 1, 2: [0, 1]}"
      ]
     },
     "execution_count": 98,
     "metadata": {},
     "output_type": "execute_result"
    }
   ],
   "source": [
    "dic"
   ]
  },
  {
   "cell_type": "code",
   "execution_count": null,
   "metadata": {
    "collapsed": true
   },
   "outputs": [],
   "source": []
  }
 ],
 "metadata": {
  "kernelspec": {
   "display_name": "Python 3",
   "language": "python",
   "name": "python3"
  },
  "language_info": {
   "codemirror_mode": {
    "name": "ipython",
    "version": 3
   },
   "file_extension": ".py",
   "mimetype": "text/x-python",
   "name": "python",
   "nbconvert_exporter": "python",
   "pygments_lexer": "ipython3",
   "version": "3.6.5"
  }
 },
 "nbformat": 4,
 "nbformat_minor": 2
}
