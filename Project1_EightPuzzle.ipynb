{
 "cells": [
  {
   "cell_type": "code",
   "execution_count": 24,
   "metadata": {
    "collapsed": true
   },
   "outputs": [],
   "source": [
    "# Creating a function that will create the goal state based\n",
    "# on the number of dimensions that the user gives it.\n",
    "# Arguments:\n",
    "# N: The number of rows and columns for the square matrix.\n",
    "def puzzle(N):\n",
    "    # Creating an matrix of dimension NxN with all 0's\n",
    "    mat = [N*[0] for i in range(N)]\n",
    "    # Iterating over all rows\n",
    "    for r in range(N):\n",
    "        # For each row, iterating over each column\n",
    "        for c in range(N):\n",
    "            #print(r,c)\n",
    "            # Assigning the corresponding value of the puzzle\n",
    "            # by using the following formula.\n",
    "            mat[r][c] = N*r + c%N + 1\n",
    "            \n",
    "    # Based on the formula used for each element above, the [N,N] position\n",
    "    # will contain (N+1) but we want it to be 0 to represent an empty space\n",
    "    mat[N-1][N-1] = 0\n",
    "    \n",
    "    return mat"
   ]
  },
  {
   "cell_type": "code",
   "execution_count": 25,
   "metadata": {
    "collapsed": true
   },
   "outputs": [],
   "source": [
    "# This function creates a dictionary with the correct indices for each of \n",
    "# the tiles in the given state.\n",
    "def mat2dict(mat):\n",
    "    # Defining an intial empty dictiory\n",
    "    goal_dict = {}\n",
    "    # The dimension of mat\n",
    "    n = len(mat)\n",
    "    # Iterating over each element in the matrix\n",
    "    for i in range(n):\n",
    "        for j in range(n):\n",
    "            # The value of the i,j tile\n",
    "            tile = mat[i][j]\n",
    "            #print(tile)\n",
    "            # For each tile, assign its corresponding indices\n",
    "            goal_dict[tile] = [i,j]\n",
    "    \n",
    "    return goal_dict"
   ]
  },
  {
   "cell_type": "code",
   "execution_count": 26,
   "metadata": {
    "collapsed": true
   },
   "outputs": [],
   "source": [
    "def mat2tpl(mat):\n",
    "    \"\"\"Convert 2-D array to tuple of tuples\"\"\"\n",
    "    return tuple([tuple(x) for x in mat])"
   ]
  },
  {
   "cell_type": "code",
   "execution_count": 27,
   "metadata": {
    "collapsed": true
   },
   "outputs": [],
   "source": [
    "# This function determines the next possible moves based on the \n",
    "# current state in the search.\n",
    "def next_move(crnt):\n",
    "    # The dimension of crnt\n",
    "    N = len(crnt)\n",
    "    # Creating a dictionary of pieces and their corresponding indices\n",
    "    # so that we can identify the indices of 0, the blank space.\n",
    "    crnt_dict = mat2dict(crnt)\n",
    "    # The indices of the blank space 0\n",
    "    blank_ind = tuple(crnt_dict[0])\n",
    "    # Creting an empty list to keep track of the possible moves \n",
    "    # from the blank space\n",
    "    moves_from = []\n",
    "    \n",
    "    #print(blank_ind)\n",
    "    \n",
    "    # If the row index doesn't equal 0 (the first row), we can make a move from the top\n",
    "    if blank_ind[0] != 0: moves_from.append('T')\n",
    "    # If the row index doesn't equal N-1 (the last row), we can make a move from the bottom\n",
    "    if blank_ind[0] != N-1: moves_from.append('B')\n",
    "    # If the column index doesn't equal 0 (the first column), we can make a move from the left\n",
    "    if blank_ind[1] != 0: moves_from.append('L')\n",
    "    # If the column index doesn't equal N-1 (the last column), we can make a move from the right\n",
    "    if blank_ind[1] != N-1: moves_from.append('R')\n",
    "    \n",
    "    #print(moves_from)\n",
    "    \n",
    "    # Creating an empty list to keep track of the indices that the blank space \n",
    "    # can move to\n",
    "    moves = []\n",
    "        \n",
    "    # Determining the indices based on the possible moves in the list moves_from\n",
    "    for d in moves_from:\n",
    "        # If we can make a move from the top, then the row index of the blank space\n",
    "        # decreases by 1 and the column index stays the same.\n",
    "        if d == 'T': moves.append(((blank_ind[0]-1,blank_ind[1]), blank_ind))\n",
    "        # If we can make a move from the bottom, then the row index of the blank space\n",
    "        # increases by 1 and the column index stays the same. \n",
    "        elif d == 'B': moves.append(((blank_ind[0]+1,blank_ind[1]), blank_ind))\n",
    "        # If we can make a move from the left, then the column index of the blank space\n",
    "        # decreases by 1 and the row index stays the same. \n",
    "        elif d == 'L': moves.append(((blank_ind[0],blank_ind[1]-1), blank_ind))\n",
    "        # If we can make a move from the right, then the column index of the blank space\n",
    "        # increases by 1 and the row index stays the same. \n",
    "        elif d == 'R': moves.append(((blank_ind[0],blank_ind[1]+1), blank_ind))\n",
    "    \n",
    "    return moves"
   ]
  },
  {
   "cell_type": "code",
   "execution_count": 28,
   "metadata": {
    "collapsed": true
   },
   "outputs": [],
   "source": [
    "import copy\n",
    "\"\"\"\n",
    "This function creates the next states (child nodes) from the given\n",
    "current state. \n",
    "Arguments - \n",
    "crnt: A matrix of the current state in the search.\n",
    "move: A move from the current state.\n",
    "\"\"\"\n",
    "def get_next_state(crnt, move):\n",
    "    # Creating a deep copy of the current state so that I can\n",
    "    # update the child node properly without modifying crnt.\n",
    "    child = copy.deepcopy(crnt)\n",
    "    # Switching the values of the blank space in the current state \n",
    "    # with the value that we are moving.\n",
    "    child[move[0][0]][move[0][1]] = crnt[move[1][0]][move[1][1]] # the new blank space\n",
    "    child[move[1][0]][move[1][1]] = crnt[move[0][0]][move[0][1]] # the moved piece\n",
    "    \n",
    "    return child"
   ]
  },
  {
   "cell_type": "code",
   "execution_count": 29,
   "metadata": {
    "collapsed": true
   },
   "outputs": [],
   "source": [
    "def h_0(crnt, goal):\n",
    "    return 0"
   ]
  },
  {
   "cell_type": "code",
   "execution_count": 30,
   "metadata": {
    "collapsed": true
   },
   "outputs": [],
   "source": [
    "def h_misplace(crnt, goal):\n",
    "    # number of rows and columns in crnt\n",
    "    n = len(crnt)\n",
    "    # Counter for the number of misplaced tiles\n",
    "    misplace = 0\n",
    "    # iterating over all elements in the crnt and goal matrices\n",
    "    for i in range(n):\n",
    "        for j in range(n):\n",
    "            #print(crnt[i][j], goal[i][j])\n",
    "            # Checking to see if the i,j element in crnt state \n",
    "            # is in the right place or not. Including a condition\n",
    "            # that the misplaced element can't equal 0 since this\n",
    "            # heuristic doesn't consider it as misplaced.\n",
    "            if crnt[i][j] != goal[i][j] and crnt[i][j] != 0:\n",
    "                # Each time we have a misplaced tile, misplace increases by 1\n",
    "                misplace += 1\n",
    "    return misplace"
   ]
  },
  {
   "cell_type": "code",
   "execution_count": 31,
   "metadata": {
    "collapsed": true
   },
   "outputs": [],
   "source": [
    "def h_manhatt(crnt, goal):\n",
    "    # Dimension of crnt and goal\n",
    "    n = len(crnt)\n",
    "    # Creating a variable for the manhattan distance\n",
    "    manhatt_dist = 0\n",
    "    # Iterating over all elements in the matrix\n",
    "    for i in range(n):\n",
    "        for j in range(n):\n",
    "            # Don't want to calculate manhattan distance for tile 0\n",
    "            if crnt[i][j] != 0:\n",
    "                # The value of the i,j tile in crnt\n",
    "                tile = crnt[i][j]\n",
    "                # The correct indices based on the goal state\n",
    "                # for the value tile\n",
    "                crct_ind = mat2dict(goal)[tile]\n",
    "                # Calculating the manhattan distance\n",
    "                manhatt_dist += abs(i - crct_ind[0]) + abs(j - crct_ind[1])\n",
    "                #print(manhatt_dist)\n",
    "    return manhatt_dist"
   ]
  },
  {
   "cell_type": "code",
   "execution_count": 32,
   "metadata": {
    "collapsed": true
   },
   "outputs": [],
   "source": [
    "# Function that determines whether or not the search has \n",
    "# reached the goal state given the current state.\n",
    "# Arguments:\n",
    "# crnt: The current state in the search.\n",
    "# goal: the goal state of the search.\n",
    "# Return:\n",
    "# \n",
    "def goal_state(crnt, goal):\n",
    "    # Compares the crnt and goal matrices to determine if they \n",
    "    # are equivalent.\n",
    "    return(crnt == goal)"
   ]
  },
  {
   "cell_type": "code",
   "execution_count": 33,
   "metadata": {},
   "outputs": [],
   "source": [
    "import heapq as heap\n",
    "\n",
    "# Creating a function for the A* algorithm that will work for \n",
    "# uniform cost search, the misplaced tile heuristic and the \n",
    "# manhatten distance heuristic.\n",
    "# The arguments for the function are:\n",
    "# goal_mat: The goal state for the puzzle\n",
    "# start_mat: The puzzle that we are starting the search with.\n",
    "# g: A cost function where the default is set to 1.\n",
    "# h: A heuristic function\n",
    "def astar(goal_mat, start_mat, h, g = 1):\n",
    "    # At the beginning of the search, first check whether or not\n",
    "    # the start_mat is the goal state \n",
    "    if goal_state(start_mat, goal_mat) == True:\n",
    "        return {\"cost\": 0, \"moves\": [], \"depth\": 0, \"nodes_exp\": 0} # not sure what to return yet\n",
    "    \n",
    "    # Initializing the list that will contain the priorirty queue of all the states\n",
    "    # where each state will have a tuple (cost, count, current state, moves)\n",
    "    pq = []\n",
    "    # Initializing a count variable that will be used for comparison\n",
    "    # in pq in the case that the costs of two states are equivalent.\n",
    "    count = 0\n",
    "    # Pushing start_mat to the heap. Assigning a cost of 0 to the initial state\n",
    "    heap.heappush(pq, (0, count, start_mat, []))\n",
    "    \n",
    "    # Initializing the dictionary that will keep track of each nodes cost and update\n",
    "    # as the node is revisited. This will make sure that we don't revisit a node with higher cost.\n",
    "    add_dict = {}\n",
    "    \n",
    "    # Keep searching until pq is an empty list\n",
    "    while len(pq) != 0:\n",
    "        # Popping off the node in the priority queue and assigning \n",
    "        # variables to each of the components in the tuple which will be used throughout\n",
    "        crnt_cost, _, crnt_state, crnt_mvs = heap.heappop(pq)\n",
    "        #print(crnt_mvs)\n",
    "        # At each iteration check to see if the prev_state is the goal state or not \n",
    "        #print(mat2dict(crnt_state)[0])\n",
    "        if goal_state(crnt_state, goal_mat):\n",
    "            # Creating a dictionary that will keep track of the cost, the moves from the initial state to \n",
    "            # goal state, the depth (length of moves list), and the number of nodes expanded (length of add_dict)\n",
    "            otpt = {\"cost\": crnt_cost, \"moves\": crnt_mvs, \"depth\": len(crnt_mvs), \"nodes_exp\": len(add_dict)}\n",
    "            return otpt \n",
    "        \n",
    "        # In order to not repeat states with higher cost, adding a condition here\n",
    "        # to check whether or not the crnt_cost is greater than the cost in add_dict\n",
    "        # which always contains the minimum cost. If this is true don't expand the current \n",
    "        # node and go back to the beginning of the while loop.\n",
    "        if mat2tpl(crnt_state) in add_dict and crnt_cost > add_dict[mat2tpl(crnt_state)]:\n",
    "            #print(\"I have reached an added node with higher cost\")\n",
    "            continue\n",
    "        \n",
    "#         print(crnt_state)\n",
    "        # Adding a stopping condition for count just in case\n",
    "        # the search grows too large.\n",
    "        if count > 10000000:\n",
    "            return \"I have been searching for too long\"\n",
    "        \n",
    "        # Find the possible moves from the current state\n",
    "        moves = next_move(crnt_state)\n",
    "#         print(moves)\n",
    "        #print(moves)\n",
    "        # For each move in moves, find all the child nodes of the current state.\n",
    "        for mv in moves:\n",
    "            child = get_next_state(crnt_state, mv)\n",
    "            # cost of the child node which includes the cost(1 unit of cost to get from \n",
    "            # one node to another) of all the previous nodes. To get the cost of all the previous\n",
    "            # nodes, we use the length of crnt_mvs which contains all the moves so far.\n",
    "            child_cost = g + len(crnt_mvs) + h(child, goal_mat) \n",
    "            # TODO: Need to include some sort of code here to account for the visited\n",
    "            # nodes\n",
    "            \n",
    "            # At each move, if the child node has already been visited, \n",
    "            # we want to check if the cost of the child node is smaller than previously \n",
    "            # and update it in the dictionary\n",
    "            if mat2tpl(child) not in add_dict or child_cost < add_dict[mat2tpl(child)]:\n",
    "                add_dict[mat2tpl(child)] = child_cost\n",
    "                # count increases by 1 for each child node\n",
    "                count += 1\n",
    "            \n",
    "                #print(mv)\n",
    "                # Pushing the child node into the heap making sure to include\n",
    "                # the crnt_mvs to mv so that later I can recreate the path to the goal state.\n",
    "                heap.heappush(pq, (child_cost, count, child, crnt_mvs+[mv]))\n",
    "                                                                            \n",
    "    # print(count)\n",
    "    return       "
   ]
  },
  {
   "cell_type": "code",
   "execution_count": 34,
   "metadata": {
    "scrolled": false
   },
   "outputs": [
    {
     "data": {
      "text/plain": [
       "[[1, 2, 3], [4, 5, 6], [0, 7, 8]]"
      ]
     },
     "execution_count": 34,
     "metadata": {},
     "output_type": "execute_result"
    }
   ],
   "source": [
    "# Testing the astar function where the initial state is the goal state\n",
    "#print(astar(goal_mat = puzzle(3), start_mat = puzzle(3), h = h_0))\n",
    "\n",
    "# Testing astar where the initial state is simple\n",
    "st_1 = [[1,2,3],[4,5,6],[7,0,8]]\n",
    "#print(astar(goal_mat = puzzle(3), start_mat = init_state, h = h_0))\n",
    "\n",
    "# Depth of 0\n",
    "d_0 = [[1,2,3],\n",
    "       [4,5,6],\n",
    "       [7,8,0]]\n",
    "\n",
    "# Depth of 2\n",
    "d_2 = [[1,2,3],\n",
    "       [4,5,6],\n",
    "       [0,7,8]]\n",
    "\n",
    "# Depth of 4\n",
    "d_4 = [[1,2,3],\n",
    "       [5,0,6],\n",
    "       [4,7,8]]\n",
    "\n",
    "# Depth of 8\n",
    "d_8 = [[1,3,6],\n",
    "       [5,0,2],\n",
    "       [4,7,8]]\n",
    "\n",
    "# Depth of 12\n",
    "d_12 = [[1,3,6],\n",
    "        [5,0,7],\n",
    "        [4,8,2]]\n",
    "\n",
    "# Depth of 16\n",
    "d_16 = [[1,6,7],\n",
    "        [5,0,3],\n",
    "        [4,8,2]]\n",
    "\n",
    "# Depth of 20\n",
    "d_20 = [[7,1,2],\n",
    "        [4,8,5],\n",
    "        [6,3,0]]\n",
    "\n",
    "# Depth of 24\n",
    "d_24 = [[0, 7, 2],\n",
    "        [4, 6, 1],\n",
    "        [3, 5, 8]]\n",
    "\n",
    "# Creating a list of all the matrices above\n",
    "init_states = [d_0, d_2, d_4, d_8, d_12, d_16, d_20, d_24]\n",
    "init_states[1]"
   ]
  },
  {
   "cell_type": "code",
   "execution_count": null,
   "metadata": {},
   "outputs": [],
   "source": [
    "# Using h_0\n",
    "h_fxns = [h_0, h_misplace, h_manhatt]\n",
    "for j in range(len(init_states)):\n",
    "    for i in range(3):\n",
    "        print(astar(goal_mat = puzzle(3), start_mat = init_states[j], h = h_fxns[i])['depth'])\n",
    "# Using h_misplace\n",
    "#astar(goal_mat = puzzle(3), start_mat = d_0, h = h_misplace)\n",
    "# Using h_manhatt\n",
    "#astar(goal_mat = puzzle(3), start_mat = d_0, h = h_manhatt)"
   ]
  },
  {
   "cell_type": "code",
   "execution_count": 18,
   "metadata": {},
   "outputs": [
    {
     "name": "stdout",
     "output_type": "stream",
     "text": [
      "Current Time = 19:10:13\n",
      "0\n",
      "10000\n",
      "20000\n",
      "30000\n",
      "40000\n",
      "50000\n",
      "70000\n",
      "80000\n"
     ]
    },
    {
     "ename": "KeyboardInterrupt",
     "evalue": "",
     "output_type": "error",
     "traceback": [
      "\u001b[0;31m---------------------------------------------------------------------------\u001b[0m",
      "\u001b[0;31mKeyboardInterrupt\u001b[0m                         Traceback (most recent call last)",
      "\u001b[0;32m<ipython-input-18-a482bf103651>\u001b[0m in \u001b[0;36m<module>\u001b[0;34m()\u001b[0m\n\u001b[1;32m      9\u001b[0m \u001b[0mprint\u001b[0m\u001b[0;34m(\u001b[0m\u001b[0;34m\"Current Time =\"\u001b[0m\u001b[0;34m,\u001b[0m \u001b[0mcurrent_time\u001b[0m\u001b[0;34m)\u001b[0m\u001b[0;34m\u001b[0m\u001b[0m\n\u001b[1;32m     10\u001b[0m \u001b[0mstart\u001b[0m \u001b[0;34m=\u001b[0m \u001b[0mtime\u001b[0m\u001b[0;34m.\u001b[0m\u001b[0mtime\u001b[0m\u001b[0;34m(\u001b[0m\u001b[0;34m)\u001b[0m\u001b[0;34m\u001b[0m\u001b[0m\n\u001b[0;32m---> 11\u001b[0;31m \u001b[0mprint\u001b[0m\u001b[0;34m(\u001b[0m\u001b[0mastar\u001b[0m\u001b[0;34m(\u001b[0m\u001b[0mgoal_mat\u001b[0m \u001b[0;34m=\u001b[0m \u001b[0mpuzzle\u001b[0m\u001b[0;34m(\u001b[0m\u001b[0;36m4\u001b[0m\u001b[0;34m)\u001b[0m\u001b[0;34m,\u001b[0m \u001b[0mstart_mat\u001b[0m \u001b[0;34m=\u001b[0m \u001b[0mfifteen_hard\u001b[0m\u001b[0;34m,\u001b[0m \u001b[0mh\u001b[0m \u001b[0;34m=\u001b[0m \u001b[0mh_manhatt\u001b[0m\u001b[0;34m)\u001b[0m\u001b[0;34m)\u001b[0m\u001b[0;34m\u001b[0m\u001b[0m\n\u001b[0m\u001b[1;32m     12\u001b[0m \u001b[0mend\u001b[0m \u001b[0;34m=\u001b[0m \u001b[0mtime\u001b[0m\u001b[0;34m.\u001b[0m\u001b[0mtime\u001b[0m\u001b[0;34m(\u001b[0m\u001b[0;34m)\u001b[0m\u001b[0;34m\u001b[0m\u001b[0m\n\u001b[1;32m     13\u001b[0m \u001b[0mprint\u001b[0m\u001b[0;34m(\u001b[0m\u001b[0mend\u001b[0m\u001b[0;34m-\u001b[0m\u001b[0mstart\u001b[0m\u001b[0;34m)\u001b[0m\u001b[0;34m\u001b[0m\u001b[0m\n",
      "\u001b[0;32m<ipython-input-6-91df058a005b>\u001b[0m in \u001b[0;36mastar\u001b[0;34m(goal_mat, start_mat, h, g)\u001b[0m\n\u001b[1;32m     67\u001b[0m             \u001b[0;31m# one node to another) of all the previous nodes. To get the cost of all the previous\u001b[0m\u001b[0;34m\u001b[0m\u001b[0;34m\u001b[0m\u001b[0m\n\u001b[1;32m     68\u001b[0m             \u001b[0;31m# nodes, we use the length of crnt_mvs which contains all the moves so far.\u001b[0m\u001b[0;34m\u001b[0m\u001b[0;34m\u001b[0m\u001b[0m\n\u001b[0;32m---> 69\u001b[0;31m             \u001b[0mchild_cost\u001b[0m \u001b[0;34m=\u001b[0m \u001b[0mg\u001b[0m \u001b[0;34m+\u001b[0m \u001b[0mlen\u001b[0m\u001b[0;34m(\u001b[0m\u001b[0mcrnt_mvs\u001b[0m\u001b[0;34m)\u001b[0m \u001b[0;34m+\u001b[0m \u001b[0mh\u001b[0m\u001b[0;34m(\u001b[0m\u001b[0mchild\u001b[0m\u001b[0;34m,\u001b[0m \u001b[0mgoal_mat\u001b[0m\u001b[0;34m)\u001b[0m\u001b[0;34m\u001b[0m\u001b[0m\n\u001b[0m\u001b[1;32m     70\u001b[0m             \u001b[0;31m# TODO: Need to include some sort of code here to account for the visited\u001b[0m\u001b[0;34m\u001b[0m\u001b[0;34m\u001b[0m\u001b[0m\n\u001b[1;32m     71\u001b[0m             \u001b[0;31m# nodes\u001b[0m\u001b[0;34m\u001b[0m\u001b[0;34m\u001b[0m\u001b[0m\n",
      "\u001b[0;32m<ipython-input-10-745283a35aac>\u001b[0m in \u001b[0;36mh_manhatt\u001b[0;34m(crnt, goal)\u001b[0m\n\u001b[1;32m     13\u001b[0m                 \u001b[0;31m# The correct indices based on the goal state\u001b[0m\u001b[0;34m\u001b[0m\u001b[0;34m\u001b[0m\u001b[0m\n\u001b[1;32m     14\u001b[0m                 \u001b[0;31m# for the value tile\u001b[0m\u001b[0;34m\u001b[0m\u001b[0;34m\u001b[0m\u001b[0m\n\u001b[0;32m---> 15\u001b[0;31m                 \u001b[0mcrct_ind\u001b[0m \u001b[0;34m=\u001b[0m \u001b[0mmat2dict\u001b[0m\u001b[0;34m(\u001b[0m\u001b[0mgoal\u001b[0m\u001b[0;34m)\u001b[0m\u001b[0;34m[\u001b[0m\u001b[0mtile\u001b[0m\u001b[0;34m]\u001b[0m\u001b[0;34m\u001b[0m\u001b[0m\n\u001b[0m\u001b[1;32m     16\u001b[0m                 \u001b[0;31m# Calculating the manhattan distance\u001b[0m\u001b[0;34m\u001b[0m\u001b[0;34m\u001b[0m\u001b[0m\n\u001b[1;32m     17\u001b[0m                 \u001b[0mmanhatt_dist\u001b[0m \u001b[0;34m+=\u001b[0m \u001b[0mabs\u001b[0m\u001b[0;34m(\u001b[0m\u001b[0mi\u001b[0m \u001b[0;34m-\u001b[0m \u001b[0mcrct_ind\u001b[0m\u001b[0;34m[\u001b[0m\u001b[0;36m0\u001b[0m\u001b[0;34m]\u001b[0m\u001b[0;34m)\u001b[0m \u001b[0;34m+\u001b[0m \u001b[0mabs\u001b[0m\u001b[0;34m(\u001b[0m\u001b[0mj\u001b[0m \u001b[0;34m-\u001b[0m \u001b[0mcrct_ind\u001b[0m\u001b[0;34m[\u001b[0m\u001b[0;36m1\u001b[0m\u001b[0;34m]\u001b[0m\u001b[0;34m)\u001b[0m\u001b[0;34m\u001b[0m\u001b[0m\n",
      "\u001b[0;31mKeyboardInterrupt\u001b[0m: "
     ]
    }
   ],
   "source": [
    "from datetime import datetime\n",
    "# Testing the astar algorithm for a 15 puzzle\n",
    "fifteen_hard = [[1,3,4,5],[8,2,6,10],[9,12,11,7],[13,15,14,0]]\n",
    "\n",
    "fifteen_easy = [[1,2,3,4],[6,7,5,8],[9,10,11,12],[13,14,15,0]]\n",
    "\n",
    "now = datetime.now()\n",
    "current_time = now.strftime(\"%H:%M:%S\")\n",
    "print(\"Current Time =\", current_time)\n",
    "start = time.time()\n",
    "print(astar(goal_mat = puzzle(4), start_mat = fifteen_hard, h = h_manhatt))\n",
    "end = time.time()\n",
    "print(end-start)"
   ]
  },
  {
   "cell_type": "code",
   "execution_count": 35,
   "metadata": {
    "collapsed": true
   },
   "outputs": [],
   "source": [
    "import time \n",
    "def calc_stats(states, goal, h_fxn):\n",
    "    nodes_exp = [0 for i in range(len(states))]\n",
    "    run_time = [0 for i in range(len(states))]\n",
    "    for i in range(len(states)):\n",
    "        start = time.time()\n",
    "        otpt = astar(goal, states[i], h_fxn)['nodes_exp']\n",
    "        end = time.time()\n",
    "        nodes_exp[i] = otpt\n",
    "        run_time[i] = end - start\n",
    "    \n",
    "    return (nodes_exp, run_time)"
   ]
  },
  {
   "cell_type": "code",
   "execution_count": 36,
   "metadata": {},
   "outputs": [],
   "source": [
    "# Nodes expanded for each depth using h_0, h_misplace, and h_manhatt \n",
    "stats_h0 = calc_stats(init_states, puzzle(3), h_0)\n",
    "stats_hmisplace = calc_stats(init_states, puzzle(3), h_misplace)\n",
    "stats_hmanhatt = calc_stats(init_states, puzzle(3), h_manhatt)"
   ]
  },
  {
   "cell_type": "code",
   "execution_count": null,
   "metadata": {
    "collapsed": true
   },
   "outputs": [],
   "source": []
  },
  {
   "cell_type": "code",
   "execution_count": 40,
   "metadata": {},
   "outputs": [],
   "source": [
    "import matplotlib.pyplot as plt\n",
    "\n",
    "depth = [0,2,4,8,12,16,20,24]\n",
    "heur_fxns = [h_0, h_misplace, h_manhatt]\n",
    "\n",
    "def print_plots(depth_list, states, N, h_fxns):\n",
    "    # Calculates the number of nodes expanded and running time\n",
    "    # for each of the depths using the three heuristic functions.\n",
    "    stats_h0 = calc_stats(init_states, puzzle(N), h_fxns[0])\n",
    "    stats_hmisplace = calc_stats(init_states, puzzle(N), h_fxns[1])\n",
    "    stats_hmanhatt = calc_stats(init_states, puzzle(N), h_fxns[2]) \n",
    "    \n",
    "    # Creating plot of depth vs. expanded nodes for each of the three\n",
    "    # heuristic functions\n",
    "    plt.plot(depth, stats_h0[0])\n",
    "    plt.plot(depth, stats_hmisplace[0])\n",
    "    plt.plot(depth, stats_hmanhatt[0])\n",
    "    plt.show()\n",
    "    \n",
    "    # Creating plot of depth vs. running time for each of the three\n",
    "    # heuristic functions\n",
    "    plt.plot(depth, stats_h0[1])\n",
    "    plt.plot(depth, stats_hmisplace[1])\n",
    "    plt.plot(depth, stats_hmanhatt[1])\n",
    "    plt.show()\n",
    "    \n",
    "    \n",
    "    \n",
    "\n"
   ]
  },
  {
   "cell_type": "code",
   "execution_count": 41,
   "metadata": {},
   "outputs": [
    {
     "data": {
      "image/png": "[encoded data removed]",
      "text/plain": [
       "<Figure size 432x288 with 1 Axes>"
      ]
     },
     "metadata": {},
     "output_type": "display_data"
    },
    {
     "data": {
      "image/png": "[encoded data removed]",
      "text/plain": [
       "<Figure size 432x288 with 1 Axes>"
      ]
     },
     "metadata": {},
     "output_type": "display_data"
    }
   ],
   "source": [
    "print_plots(depth, init_states, 3, heur_fxns)"
   ]
  },
  {
   "cell_type": "code",
   "execution_count": null,
   "metadata": {},
   "outputs": [],
   "source": [
    "stats_hmisplace"
   ]
  },
  {
   "cell_type": "code",
   "execution_count": null,
   "metadata": {},
   "outputs": [],
   "source": [
    "stats_hmanhatt"
   ]
  },
  {
   "cell_type": "code",
   "execution_count": null,
   "metadata": {},
   "outputs": [],
   "source": [
    "calc_stats(init_states, puzzle(3), h_manhatt)"
   ]
  },
  {
   "cell_type": "code",
   "execution_count": null,
   "metadata": {
    "collapsed": true
   },
   "outputs": [],
   "source": [
    "def print_moves():\n",
    "    '''\n",
    "    Prints the sequence of moves from the initial state to \n",
    "    the goal state.\n",
    "    \n",
    "    '''"
   ]
  },
  {
   "cell_type": "code",
   "execution_count": null,
   "metadata": {},
   "outputs": [],
   "source": [
    "# Creating a user interface so that the user can enter \n",
    "# their own initial state for the puzzle.\n",
    "import math\n",
    "MAX_SIZE = 100\n",
    "\n",
    "def main():\n",
    "    # TODO: Right now it fails if user make mistakes\n",
    "    # Check size to be an integer square - 1, use try except on rows input\n",
    "    square_less_1 = [x**2-1 for x in range(2, 11, 1)]\n",
    "    size = int(input(\"This is an N-puzzle solver. Please choose size of game \" \\\n",
    "                     f\"(can only be N^2-1, e.g. {square_less_1}) no larger than {MAX_SIZE}: \"))\n",
    "    if size > MAX_SIZE:\n",
    "        print(\"Size is too large, please try again\")\n",
    "        return\n",
    "    if size not in square_less_1:\n",
    "        print('Size game entered is not an integer square - 1, please try again')\n",
    "        return\n",
    "    N = int(math.sqrt(size+1))\n",
    "    puzzle_type = input(\"Press 1 to create your own puzzle or 2 for a default puzzle:\")\n",
    "    if puzzle_type == '1':\n",
    "        print(\"When entering your puzzle, make sure to enter 0 for the blank space and use spaces between numbers:\")\n",
    "        # Creating an empty NxN matrix for the user to create the initial state\n",
    "        try:\n",
    "            mat = [N*[0] for i in range(N)]\n",
    "            # Iterating over each row in the matrix\n",
    "            for i in range(N):\n",
    "                mat[i] = input(f\"Enter row {str(i)}: \")\n",
    "            #print(mat)\n",
    "            # Since the input the user gives for the puzzle is a string,\n",
    "            # we need to convert the elements of this puzzle to integers.\n",
    "            for j in range(N):\n",
    "                splt_row = mat[j].split()\n",
    "                mat[j] = [int(splt_row[k]) for k in range(N)]\n",
    "#                 print(mat[j])\n",
    "        except:\n",
    "            print(\"Please pay attention to the format required\")\n",
    "            return\n",
    "    if puzzle_type == '2':\n",
    "        pass\n",
    "        # call function that will run search with default puzzle. \n",
    "        # maybe give options for the difficulty of default puzzle.\n",
    "        \n",
    "    print(f\"This is the starting state:\")\n",
    "    for i in range(N):\n",
    "        print(mat[i])\n",
    "        \n",
    "    # Ask user for:\n",
    "    # Algorithm\n",
    "    heur_fxn = input(\"Please choose your heuristic function, enter (1) Uniform Cost, (2) Misplaced Tile, (3) Manhattan Distance: \")\n",
    "    # Would you like a print of the best sequence of moves y/n - into PRINT_MOVES\n",
    "    seq_mov = input(\"Would you like a print out of the best sequence of moves? Enter y/n: \")\n",
    "    \n",
    "    # If the user wants to see the best sequence of moves, then call function print_moves\n",
    "    if seq_move == 'y':\n",
    "        print_moves()\n",
    "    # Would you like a full trace of the algorithm? NOTE: this could be pretty long - into PRINT_TRACE"
   ]
  },
  {
   "cell_type": "code",
   "execution_count": null,
   "metadata": {
    "collapsed": true
   },
   "outputs": [],
   "source": []
  },
  {
   "cell_type": "code",
   "execution_count": null,
   "metadata": {
    "collapsed": true
   },
   "outputs": [],
   "source": []
  }
 ],
 "metadata": {
  "kernelspec": {
   "display_name": "Python 3",
   "language": "python",
   "name": "python3"
  },
  "language_info": {
   "codemirror_mode": {
    "name": "ipython",
    "version": 3
   },
   "file_extension": ".py",
   "mimetype": "text/x-python",
   "name": "python",
   "nbconvert_exporter": "python",
   "pygments_lexer": "ipython3",
   "version": "3.6.5"
  }
 },
 "nbformat": 4,
 "nbformat_minor": 2
}
