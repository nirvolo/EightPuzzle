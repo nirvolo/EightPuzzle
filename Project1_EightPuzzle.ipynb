{
 "cells": [
  {
   "cell_type": "code",
   "execution_count": 3,
   "metadata": {},
   "outputs": [],
   "source": [
    "# Creating a user interface so that the user can enter \n",
    "# their own initial state for the puzzle.\n",
    "import math\n",
    "MAX_SIZE = 100\n",
    "\n",
    "def main():\n",
    "    # TODO: Right now it fails if user make mistakes\n",
    "    # Check size to be an integer square - 1, use try except on rows input\n",
    "    square_less_1 = [x**2-1 for x in range(2, 11, 1)]\n",
    "    size = int(input(\"This is an N-puzzle solver. Please choose size of game \" \\\n",
    "                     f\"(can only be N^2-1, e.g. {square_less_1}) no larger than {MAX_SIZE}:\"))\n",
    "    if size > MAX_SIZE:\n",
    "        print(\"Size is too large, please try again\")\n",
    "        return\n",
    "    if size not in square_less_1:\n",
    "        print('Size game entered is not an integer square - 1, please try again')\n",
    "        return\n",
    "    N = int(math.sqrt(size+1))\n",
    "    puzzle_type = input(\"Press 1 to create your own puzzle or 2 for a default puzzle:\")\n",
    "    if puzzle_type == '1':\n",
    "        print(\"When entering your puzzle, make sure to enter 0 for the blank space and use spaces between numbers:\")\n",
    "        # Creating an empty NxN matrix for the user to create the initial state\n",
    "        try:\n",
    "            mat = [N*[0] for i in range(N)]\n",
    "            # Iterating over each row in the matrix\n",
    "            for i in range(N):\n",
    "                mat[i] = input(f\"Enter row {str(i)}: \")\n",
    "            #print(mat)\n",
    "            # Since the input the user gives for the puzzle is a string,\n",
    "            # we need to convert the elements of this puzzle to integers.\n",
    "            for j in range(N):\n",
    "                splt_row = mat[j].split()\n",
    "                mat[j] = [int(splt_row[k]) for k in range(N)]\n",
    "#                 print(mat[j])\n",
    "        except:\n",
    "            print(\"Please pay attention to the format required\")\n",
    "            return\n",
    "    if puzzle_type == '2':\n",
    "        pass\n",
    "        # call function that will run search with default puzzle. \n",
    "        # maybe give options for the difficulty of default puzzle.\n",
    "        \n",
    "    print(f\"This is the starting state:\")\n",
    "    for i in range(N):\n",
    "        print(mat[i])\n",
    "        \n",
    "    # Ask user for:\n",
    "    # Algorithm\n",
    "    # Would you like a print of the best sequence of moves y/n - into PRINT_MOVES\n",
    "    # Would you like a full trace of the algorithm? NOTE: this could be pretty long - into PRINT_TRACE"
   ]
  },
  {
   "cell_type": "code",
   "execution_count": 4,
   "metadata": {},
   "outputs": [
    {
     "name": "stdout",
     "output_type": "stream",
     "text": [
      "This is an N-puzzle solver. Please choose size of game (can only be N^2-1, e.g. [3, 8, 15, 24, 35, 48, 63, 80, 99]) no larger than 100:\n"
     ]
    },
    {
     "ename": "ValueError",
     "evalue": "invalid literal for int() with base 10: ''",
     "output_type": "error",
     "traceback": [
      "\u001b[0;31m---------------------------------------------------------------------------\u001b[0m",
      "\u001b[0;31mValueError\u001b[0m                                Traceback (most recent call last)",
      "\u001b[0;32m<ipython-input-4-58ca95c5b364>\u001b[0m in \u001b[0;36m<module>\u001b[0;34m()\u001b[0m\n\u001b[0;32m----> 1\u001b[0;31m \u001b[0mmain\u001b[0m\u001b[0;34m(\u001b[0m\u001b[0;34m)\u001b[0m\u001b[0;34m\u001b[0m\u001b[0m\n\u001b[0m",
      "\u001b[0;32m<ipython-input-3-b7e19f9a8a95>\u001b[0m in \u001b[0;36mmain\u001b[0;34m()\u001b[0m\n\u001b[1;32m      8\u001b[0m     \u001b[0;31m# Check size to be an integer square - 1, use try except on rows input\u001b[0m\u001b[0;34m\u001b[0m\u001b[0;34m\u001b[0m\u001b[0m\n\u001b[1;32m      9\u001b[0m     \u001b[0msquare_less_1\u001b[0m \u001b[0;34m=\u001b[0m \u001b[0;34m[\u001b[0m\u001b[0mx\u001b[0m\u001b[0;34m**\u001b[0m\u001b[0;36m2\u001b[0m\u001b[0;34m-\u001b[0m\u001b[0;36m1\u001b[0m \u001b[0;32mfor\u001b[0m \u001b[0mx\u001b[0m \u001b[0;32min\u001b[0m \u001b[0mrange\u001b[0m\u001b[0;34m(\u001b[0m\u001b[0;36m2\u001b[0m\u001b[0;34m,\u001b[0m \u001b[0;36m11\u001b[0m\u001b[0;34m,\u001b[0m \u001b[0;36m1\u001b[0m\u001b[0;34m)\u001b[0m\u001b[0;34m]\u001b[0m\u001b[0;34m\u001b[0m\u001b[0m\n\u001b[0;32m---> 10\u001b[0;31m     \u001b[0msize\u001b[0m \u001b[0;34m=\u001b[0m \u001b[0mint\u001b[0m\u001b[0;34m(\u001b[0m\u001b[0minput\u001b[0m\u001b[0;34m(\u001b[0m\u001b[0;34m\"This is an N-puzzle solver. Please choose size of game \"\u001b[0m                      \u001b[0;34mf\"(can only be N^2-1, e.g. {square_less_1}) no larger than {MAX_SIZE}:\"\u001b[0m\u001b[0;34m)\u001b[0m\u001b[0;34m)\u001b[0m\u001b[0;34m\u001b[0m\u001b[0m\n\u001b[0m\u001b[1;32m     11\u001b[0m     \u001b[0;32mif\u001b[0m \u001b[0msize\u001b[0m \u001b[0;34m>\u001b[0m \u001b[0mMAX_SIZE\u001b[0m\u001b[0;34m:\u001b[0m\u001b[0;34m\u001b[0m\u001b[0m\n\u001b[1;32m     12\u001b[0m         \u001b[0mprint\u001b[0m\u001b[0;34m(\u001b[0m\u001b[0;34m\"Size is too large, please try again\"\u001b[0m\u001b[0;34m)\u001b[0m\u001b[0;34m\u001b[0m\u001b[0m\n",
      "\u001b[0;31mValueError\u001b[0m: invalid literal for int() with base 10: ''"
     ]
    }
   ],
   "source": [
    "main()"
   ]
  },
  {
   "cell_type": "code",
   "execution_count": 6,
   "metadata": {
    "collapsed": true
   },
   "outputs": [],
   "source": [
    "# Creating a function that will create the goal state based\n",
    "# on the number of dimensions that the user gives it.\n",
    "# Arguments:\n",
    "# N: The number of rows and columns for the square matrix.\n",
    "def puzzle(N):\n",
    "    # Creating an matrix of dimension NxN with all 0's\n",
    "    mat = [N*[0] for i in range(N)]\n",
    "    # Iterating over all rows\n",
    "    for r in range(N):\n",
    "        # For each row, iterating over each column\n",
    "        for c in range(N):\n",
    "            #print(r,c)\n",
    "            # Assigning the corresponding value of the puzzle\n",
    "            # by using the following formula.\n",
    "            mat[r][c] = N*r + c%N + 1\n",
    "            \n",
    "    # Based on the formula used for each element above, the [N,N] position\n",
    "    # will contain (N+1) but we want it to be 0 to represent an empty space\n",
    "    mat[N-1][N-1] = 0\n",
    "    \n",
    "    return mat"
   ]
  },
  {
   "cell_type": "code",
   "execution_count": 6,
   "metadata": {},
   "outputs": [
    {
     "data": {
      "text/plain": [
       "[[1, 2], [3, 0]]"
      ]
     },
     "execution_count": 6,
     "metadata": {},
     "output_type": "execute_result"
    }
   ],
   "source": [
    "puzzle(2)"
   ]
  },
  {
   "cell_type": "code",
   "execution_count": 7,
   "metadata": {},
   "outputs": [
    {
     "data": {
      "text/plain": [
       "[4, 5, 6]"
      ]
     },
     "execution_count": 7,
     "metadata": {},
     "output_type": "execute_result"
    }
   ],
   "source": [
    "a = puzzle(3)\n",
    "a[1]"
   ]
  },
  {
   "cell_type": "code",
   "execution_count": 8,
   "metadata": {},
   "outputs": [
    {
     "data": {
      "text/plain": [
       "[[100, 2, 3], [4, 5, 6], [7, 8, 0]]"
      ]
     },
     "execution_count": 8,
     "metadata": {},
     "output_type": "execute_result"
    }
   ],
   "source": [
    "import copy\n",
    "b = copy.deepcopy(a)\n",
    "b[0][0]=100\n",
    "b"
   ]
  },
  {
   "cell_type": "code",
   "execution_count": 9,
   "metadata": {},
   "outputs": [],
   "source": [
    "def mm(mat_src):\n",
    "    mat = copy.deepcopy(mat_src)\n",
    "    mat[0][0] = 200\n",
    "    return mat"
   ]
  },
  {
   "cell_type": "code",
   "execution_count": 10,
   "metadata": {
    "collapsed": true
   },
   "outputs": [],
   "source": [
    "b = mm(a)"
   ]
  },
  {
   "cell_type": "code",
   "execution_count": 11,
   "metadata": {},
   "outputs": [
    {
     "data": {
      "text/plain": [
       "[[1, 2, 3], [4, 5, 6], [7, 8, 0]]"
      ]
     },
     "execution_count": 11,
     "metadata": {},
     "output_type": "execute_result"
    }
   ],
   "source": [
    "a"
   ]
  },
  {
   "cell_type": "code",
   "execution_count": 12,
   "metadata": {},
   "outputs": [
    {
     "data": {
      "text/plain": [
       "[[200, 2, 3], [4, 5, 6], [7, 8, 0]]"
      ]
     },
     "execution_count": 12,
     "metadata": {},
     "output_type": "execute_result"
    }
   ],
   "source": [
    "b"
   ]
  },
  {
   "cell_type": "code",
   "execution_count": 7,
   "metadata": {
    "collapsed": true
   },
   "outputs": [],
   "source": [
    "# This function creates a dictionary with the correct indices for each of \n",
    "# the tiles in the given state.\n",
    "def mat2dict(mat):\n",
    "    # Defining an intial empty dictiory\n",
    "    goal_dict = {}\n",
    "    # The dimension of mat\n",
    "    n = len(mat)\n",
    "    # Iterating over each element in the matrix\n",
    "    for i in range(n):\n",
    "        for j in range(n):\n",
    "            # The value of the i,j tile\n",
    "            tile = mat[i][j]\n",
    "            #print(tile)\n",
    "            # For each tile, assign its corresponding indices\n",
    "            goal_dict[tile] = [i,j]\n",
    "    \n",
    "    return goal_dict"
   ]
  },
  {
   "cell_type": "code",
   "execution_count": 33,
   "metadata": {
    "collapsed": true
   },
   "outputs": [],
   "source": [
    "def mat2tpl(mat):\n",
    "    \"\"\"Convert 2-D array to tuple of tuples\"\"\"\n",
    "    return tuple([tuple(x) for x in mat])"
   ]
  },
  {
   "cell_type": "code",
   "execution_count": 14,
   "metadata": {},
   "outputs": [
    {
     "data": {
      "text/plain": [
       "{0: [1, 1], 1: [0, 0], 2: [0, 1], 3: [1, 0]}"
      ]
     },
     "execution_count": 14,
     "metadata": {},
     "output_type": "execute_result"
    }
   ],
   "source": [
    "# Testing the function mat2dict\n",
    "mat2dict(puzzle(2))"
   ]
  },
  {
   "cell_type": "code",
   "execution_count": 119,
   "metadata": {},
   "outputs": [],
   "source": [
    "import heapq as heap\n",
    "\n",
    "# Creating a function for the A* algorithm that will work for \n",
    "# uniform cost search, the misplaced tile heuristic and the \n",
    "# manhatten distance heuristic.\n",
    "# The arguments for the function are:\n",
    "# goal_mat: The goal state for the puzzle\n",
    "# start_mat: The puzzle that we are starting the search with.\n",
    "# g: A cost function\n",
    "# h: A heuristic function\n",
    "def astar(goal_mat, start_mat, h, g = 1):\n",
    "    print(\"I have entered A*\")\n",
    "    # At the beginning of the search, first check whether or not\n",
    "    # the start_mat is the goal state \n",
    "    if goal_state(start_mat, goal_mat) == True:\n",
    "        return \"I have reached the goal state!\" # not sure what to return yet\n",
    "    \n",
    "    # Initializing the list that will contain the priorirty queue of all the states\n",
    "    # where each state will have a tuple (cost, count, current state, moves)\n",
    "    pq = []\n",
    "    # Initializing a count variable that will be used for comparison\n",
    "    # in pq in the case that the costs of two states are equivalent.\n",
    "    count = 0\n",
    "    # Pushing start_mat to the heap. Assigning a cost of 0 to the initial state\n",
    "    heap.heappush(pq, (0, count, start_mat, []))\n",
    "    \n",
    "    # Initializing the dictionary that will keep track of each nodes cost and update\n",
    "    # as the node is revisited. This will make sure that we don't revisit a node with higher cost.\n",
    "    add_dict = {}\n",
    "    \n",
    "    # Keep searching until pq is an empty list\n",
    "    while len(pq) != 0:\n",
    "        # Popping off the node in the priority queue and assigning \n",
    "        # variables to each of the components in the tuple which will be used throughout\n",
    "        crnt_cost, _, crnt_state, crnt_mvs = heap.heappop(pq)\n",
    "        #print(crnt_mvs)\n",
    "        # At each iteration check to see if the prev_state is the goal state or not \n",
    "        #print(mat2dict(crnt_state)[0])\n",
    "        if goal_state(crnt_state, goal_mat) == True:\n",
    "            # Creating a dictionary that will keep track of the cost, the moves from the initial state to \n",
    "            # goal state, the depth (length of moves list), and the number of nodes expanded (length of add_dict)\n",
    "            otpt = {\"cost\": crnt_cost, \"moves\": crnt_mvs, \"depth\": len(crnt_mvs), \"nodes_exp\": len(add_dict)}\n",
    "            return otpt # TODO: might need to change this later\n",
    "        \n",
    "        # In order to not repeat states with higher cost, adding a condition here\n",
    "        # to check whether or not the crnt_cost is greater than the cost in add_dict\n",
    "        # which always contains the minimum cost. If this is true don't expand the current \n",
    "        # node and go back to the beginning of the while loop.\n",
    "        if mat2tpl(crnt_state) in add_dict and crnt_cost > add_dict[mat2tpl(crnt_state)]:\n",
    "            print(\"I have reached an added node with higher cost\")\n",
    "            continue\n",
    "        \n",
    "#         print(crnt_state)\n",
    "        # TODO: Need to add some kind of stopping condition for count just in case\n",
    "        # the search grows too large.\n",
    "        if count > 10000000:\n",
    "            print(count)\n",
    "            return \"I have been searching for too long\"\n",
    "        \n",
    "        # Find the possible moves from the current state\n",
    "        moves = next_move(crnt_state)\n",
    "#         print(moves)\n",
    "        #print(moves)\n",
    "        # For each move in moves, find all the child nodes of the current state.\n",
    "        for mv in moves:\n",
    "            child = get_next_state(crnt_state, mv)\n",
    "            # cost of the child node which includes the cost of the current state\n",
    "            child_cost = g + h(child, goal_mat) + crnt_cost\n",
    "            # TODO: Need to include some sort of code here to account for the visited\n",
    "            # nodes\n",
    "            \n",
    "            # At each move, if the child node has already been visited, \n",
    "            # we want to check if the cost of the child node is smaller than previously \n",
    "            # and update it in the dictionary\n",
    "            if mat2tpl(child) not in add_dict or child_cost <= add_dict[mat2tpl(child)]:\n",
    "                add_dict[mat2tpl(child)] = child_cost\n",
    "                # count increases by 1 for each child node\n",
    "                count += 1\n",
    "            \n",
    "                #print(mv)\n",
    "                # Pushing the child node into the heap making sure to include\n",
    "                # the crnt_mvs to mv so that later I can recreate the path to the goal state.\n",
    "                heap.heappush(pq, (child_cost, count, child, crnt_mvs+[mv]))\n",
    "                                                                            \n",
    "    # print(count)\n",
    "    return       "
   ]
  },
  {
   "cell_type": "code",
   "execution_count": 120,
   "metadata": {
    "scrolled": false
   },
   "outputs": [
    {
     "name": "stdout",
     "output_type": "stream",
     "text": [
      "I have entered A*\n"
     ]
    },
    {
     "data": {
      "text/plain": [
       "{'cost': 234,\n",
       " 'depth': 28,\n",
       " 'moves': [((0, 1), (0, 0)),\n",
       "  ((0, 2), (0, 1)),\n",
       "  ((1, 2), (0, 2)),\n",
       "  ((1, 1), (1, 2)),\n",
       "  ((2, 1), (1, 1)),\n",
       "  ((2, 0), (2, 1)),\n",
       "  ((1, 0), (2, 0)),\n",
       "  ((1, 1), (1, 0)),\n",
       "  ((2, 1), (1, 1)),\n",
       "  ((2, 2), (2, 1)),\n",
       "  ((1, 2), (2, 2)),\n",
       "  ((1, 1), (1, 2)),\n",
       "  ((0, 1), (1, 1)),\n",
       "  ((0, 2), (0, 1)),\n",
       "  ((1, 2), (0, 2)),\n",
       "  ((2, 2), (1, 2)),\n",
       "  ((2, 1), (2, 2)),\n",
       "  ((2, 0), (2, 1)),\n",
       "  ((1, 0), (2, 0)),\n",
       "  ((0, 0), (1, 0)),\n",
       "  ((0, 1), (0, 0)),\n",
       "  ((1, 1), (0, 1)),\n",
       "  ((2, 1), (1, 1)),\n",
       "  ((2, 0), (2, 1)),\n",
       "  ((1, 0), (2, 0)),\n",
       "  ((1, 1), (1, 0)),\n",
       "  ((2, 1), (1, 1)),\n",
       "  ((2, 2), (2, 1))],\n",
       " 'nodes_exp': 18559}"
      ]
     },
     "execution_count": 120,
     "metadata": {},
     "output_type": "execute_result"
    }
   ],
   "source": [
    "# Testing the astar function where the initial state is the goal state\n",
    "#print(astar(goal_mat = puzzle(3), start_mat = puzzle(3), h = h_0))\n",
    "\n",
    "# Testing astar where the initial state is simple\n",
    "st_1 = [[1,2,3],[4,5,6],[7,0,8]]\n",
    "#print(astar(goal_mat = puzzle(3), start_mat = init_state, h = h_0))\n",
    "\n",
    "init_state = [[0, 7, 2],\n",
    " [4, 6, 1],\n",
    " [3, 5, 8]]\n",
    "#print(astar(goal_mat = puzzle(3), start_mat = init_state, h = h_manhatt))\n",
    "astar(goal_mat = puzzle(3), start_mat = init_state, h = h_manhatt)"
   ]
  },
  {
   "cell_type": "code",
   "execution_count": 32,
   "metadata": {},
   "outputs": [
    {
     "data": {
      "text/plain": [
       "((1, 2), (3, 4))"
      ]
     },
     "execution_count": 32,
     "metadata": {},
     "output_type": "execute_result"
    }
   ],
   "source": [
    "d = {}\n",
    "crnt = [[1, 2], [3, 4]]\n",
    "crnt_tpl = tuple([tuple(e) for e in crnt])\n",
    "#d[l] = 1\n",
    "crnt_tpl"
   ]
  },
  {
   "cell_type": "code",
   "execution_count": 170,
   "metadata": {},
   "outputs": [
    {
     "data": {
      "text/plain": [
       "[[1, 2, 3], [4, 5, 6], [7, 8, 0]]"
      ]
     },
     "execution_count": 170,
     "metadata": {},
     "output_type": "execute_result"
    }
   ],
   "source": [
    "get_next_state(crnt = init_state, move = ((2,2),(2,1)))"
   ]
  },
  {
   "cell_type": "code",
   "execution_count": 71,
   "metadata": {},
   "outputs": [
    {
     "name": "stdout",
     "output_type": "stream",
     "text": [
      "dd\n"
     ]
    }
   ],
   "source": [
    "li = {2: 'ddd', 3: 'lafjdsakf'}\n",
    "if 3 in li: print('dd')"
   ]
  },
  {
   "cell_type": "code",
   "execution_count": 133,
   "metadata": {},
   "outputs": [
    {
     "data": {
      "text/plain": [
       "(3, 1, 'A', ['m1'])"
      ]
     },
     "execution_count": 133,
     "metadata": {},
     "output_type": "execute_result"
    }
   ],
   "source": [
    "s = (None, 0, 's', [])\n",
    "crnt = s\n",
    "moves = ['m1']\n",
    "for move in moves:\n",
    "    new = (3, 1, 'A', crnt[3]+[move])\n",
    "new"
   ]
  },
  {
   "cell_type": "code",
   "execution_count": 134,
   "metadata": {},
   "outputs": [
    {
     "data": {
      "text/plain": [
       "(3, 1, 'B', ['m1', 'm2'])"
      ]
     },
     "execution_count": 134,
     "metadata": {},
     "output_type": "execute_result"
    }
   ],
   "source": [
    "crnt = new\n",
    "moves = ['m2']\n",
    "for move in moves:\n",
    "    new = (3, 1, 'B', crnt[3]+[move])\n",
    "new"
   ]
  },
  {
   "cell_type": "code",
   "execution_count": 135,
   "metadata": {},
   "outputs": [
    {
     "data": {
      "text/plain": [
       "['m1', 'm2']"
      ]
     },
     "execution_count": 135,
     "metadata": {},
     "output_type": "execute_result"
    }
   ],
   "source": [
    "['m1']+['m2']"
   ]
  },
  {
   "cell_type": "code",
   "execution_count": 115,
   "metadata": {},
   "outputs": [
    {
     "name": "stdout",
     "output_type": "stream",
     "text": [
      "[1]\n",
      "[1, 3]\n",
      "[1, 3, 5]\n",
      "[1, 3, 5, 7]\n",
      "[1, 3, 5, 7, 9]\n",
      "[1, 3, 2, 7, 9, 5]\n",
      "[1, 3, 2, 7, 9, 5, 4]\n",
      "[1, 3, 2, 6, 9, 5, 4, 7]\n",
      "[1, 3, 2, 6, 9, 5, 4, 7, 8]\n",
      "[0, 1, 2, 6, 3, 5, 4, 7, 8, 9]\n"
     ]
    },
    {
     "data": {
      "text/plain": [
       "[0, 1, 2, 3, 4, 5, 6, 7, 8, 9]"
      ]
     },
     "execution_count": 115,
     "metadata": {},
     "output_type": "execute_result"
    }
   ],
   "source": [
    "import heapq as heap\n",
    "def heapsort(iterable):\n",
    "    h = []\n",
    "    for value in iterable:\n",
    "        heap.heappush(h, value)\n",
    "        print(h)\n",
    "    return [heap.heappop(h) for i in range(len(h))]\n",
    "\n",
    "heapsort([1, 3, 5, 7, 9, 2, 4, 6, 8, 0])\n"
   ]
  },
  {
   "cell_type": "code",
   "execution_count": null,
   "metadata": {},
   "outputs": [],
   "source": [
    "l = [(3,1), (2,2), (5,2)]\n",
    "heap.heappush(l, (344,1))\n",
    "for num in l: heap.heappush(l, num)\n",
    "    \n",
    "#heap.heappush(l, (2,2))\n",
    "#heap.heappush(l, (5,2))\n",
    "#heap.heappop(l)"
   ]
  },
  {
   "cell_type": "code",
   "execution_count": 9,
   "metadata": {
    "collapsed": true
   },
   "outputs": [],
   "source": [
    "def h_0(crnt, goal):\n",
    "    return 0"
   ]
  },
  {
   "cell_type": "code",
   "execution_count": 80,
   "metadata": {
    "collapsed": true
   },
   "outputs": [],
   "source": [
    "def h_misplace(crnt, goal):\n",
    "    # number of rows and columns in crnt\n",
    "    n = len(crnt)\n",
    "    # Counter for the number of misplaced tiles\n",
    "    misplace = 0\n",
    "    # iterating over all elements in the crnt and goal matrices\n",
    "    for i in range(n):\n",
    "        for j in range(n):\n",
    "            #print(crnt[i][j], goal[i][j])\n",
    "            # Checking to see if the i,j element in crnt state \n",
    "            # is in the right place or not. Including a condition\n",
    "            # that the misplaced element can't equal 0 since this\n",
    "            # heuristic doesn't consider it as misplaced.\n",
    "            if crnt[i][j] != goal[i][j] and crnt[i][j] != 0:\n",
    "                # Each time we have a misplaced tile, misplace increases by 1\n",
    "                misplace += 1\n",
    "    return misplace"
   ]
  },
  {
   "cell_type": "code",
   "execution_count": 11,
   "metadata": {},
   "outputs": [
    {
     "name": "stdout",
     "output_type": "stream",
     "text": [
      "1 1\n",
      "2 2\n",
      "4 3\n",
      "3 4\n",
      "0 5\n",
      "6 6\n",
      "7 7\n",
      "8 8\n",
      "5 0\n"
     ]
    },
    {
     "data": {
      "text/plain": [
       "3"
      ]
     },
     "execution_count": 11,
     "metadata": {},
     "output_type": "execute_result"
    }
   ],
   "source": [
    "state = [[1,2,4],[3,0,6],[7,8,5]]\n",
    "h_misplace(state, puzzle(3))"
   ]
  },
  {
   "cell_type": "code",
   "execution_count": 118,
   "metadata": {
    "collapsed": true
   },
   "outputs": [],
   "source": [
    "def h_manhatt(crnt, goal):\n",
    "    # Dimension of crnt and goal\n",
    "    n = len(crnt)\n",
    "    # Creating a variable for the manhattan distance\n",
    "    manhatt_dist = 0\n",
    "    # Iterating over all elements in the matrix\n",
    "    for i in range(n):\n",
    "        for j in range(n):\n",
    "            # Don't want to calculate manhattan distance for tile 0\n",
    "            if crnt[i][j] != 0:\n",
    "                # The value of the i,j tile in crnt\n",
    "                tile = crnt[i][j]\n",
    "                # The correct indices based on the goal state\n",
    "                # for the value tile\n",
    "                crct_ind = mat2dict(goal)[tile]\n",
    "                # Calculating the manhattan distance\n",
    "                manhatt_dist += abs(i - crct_ind[0]) + abs(j - crct_ind[1])\n",
    "                #print(manhatt_dist)\n",
    "    return manhatt_dist"
   ]
  },
  {
   "cell_type": "code",
   "execution_count": 115,
   "metadata": {},
   "outputs": [
    {
     "name": "stdout",
     "output_type": "stream",
     "text": [
      "0\n",
      "0\n",
      "0\n",
      "0\n",
      "0\n",
      "0\n",
      "0\n",
      "0\n"
     ]
    },
    {
     "data": {
      "text/plain": [
       "0"
      ]
     },
     "execution_count": 115,
     "metadata": {},
     "output_type": "execute_result"
    }
   ],
   "source": [
    "# Testing h_manhatt\n",
    "state = [[1,2,3],[4,5,6],[7,8,0]]\n",
    "state\n",
    "h_manhatt(state, puzzle(3))\n",
    "#state"
   ]
  },
  {
   "cell_type": "code",
   "execution_count": 114,
   "metadata": {},
   "outputs": [
    {
     "data": {
      "text/plain": [
       "[[1, 2, 3], [5, 4, 6], [7, 8, 0]]"
      ]
     },
     "execution_count": 114,
     "metadata": {},
     "output_type": "execute_result"
    }
   ],
   "source": [
    "state"
   ]
  },
  {
   "cell_type": "code",
   "execution_count": 14,
   "metadata": {
    "collapsed": true
   },
   "outputs": [],
   "source": [
    "# This function determines the next possible moves based on the \n",
    "# current state in the search.\n",
    "def next_move(crnt):\n",
    "    # The dimension of crnt\n",
    "    N = len(crnt)\n",
    "    # Creating a dictionary of pieces and their corresponding indices\n",
    "    # so that we can identify the indices of 0, the blank space.\n",
    "    crnt_dict = mat2dict(crnt)\n",
    "    # The indices of the blank space 0\n",
    "    blank_ind = tuple(crnt_dict[0])\n",
    "    # Creting an empty list to keep track of the possible moves \n",
    "    # from the blank space\n",
    "    moves_from = []\n",
    "    \n",
    "    #print(blank_ind)\n",
    "    \n",
    "    # If the row index doesn't equal 0 (the first row), we can make a move from the top\n",
    "    if blank_ind[0] != 0: moves_from.append('T')\n",
    "    # If the row index doesn't equal N-1 (the last row), we can make a move from the bottom\n",
    "    if blank_ind[0] != N-1: moves_from.append('B')\n",
    "    # If the column index doesn't equal 0 (the first column), we can make a move from the left\n",
    "    if blank_ind[1] != 0: moves_from.append('L')\n",
    "    # If the column index doesn't equal N-1 (the last column), we can make a move from the right\n",
    "    if blank_ind[1] != N-1: moves_from.append('R')\n",
    "    \n",
    "    #print(moves_from)\n",
    "    \n",
    "    # Creating an empty list to keep track of the indices that the blank space \n",
    "    # can move to\n",
    "    moves = []\n",
    "        \n",
    "    # Determining the indices based on the possible moves in the list moves_from\n",
    "    for d in moves_from:\n",
    "        # If we can make a move from the top, then the row index of the blank space\n",
    "        # decreases by 1 and the column index stays the same.\n",
    "        if d == 'T': moves.append(((blank_ind[0]-1,blank_ind[1]), blank_ind))\n",
    "        # If we can make a move from the bottom, then the row index of the blank space\n",
    "        # increases by 1 and the column index stays the same. \n",
    "        elif d == 'B': moves.append(((blank_ind[0]+1,blank_ind[1]), blank_ind))\n",
    "        # If we can make a move from the left, then the column index of the blank space\n",
    "        # decreases by 1 and the row index stays the same. \n",
    "        elif d == 'L': moves.append(((blank_ind[0],blank_ind[1]-1), blank_ind))\n",
    "        # If we can make a move from the right, then the column index of the blank space\n",
    "        # increases by 1 and the row index stays the same. \n",
    "        elif d == 'R': moves.append(((blank_ind[0],blank_ind[1]+1), blank_ind))\n",
    "    \n",
    "    return moves"
   ]
  },
  {
   "cell_type": "code",
   "execution_count": 15,
   "metadata": {},
   "outputs": [
    {
     "data": {
      "text/plain": [
       "[((1, 2), (0, 2)), ((0, 1), (0, 2))]"
      ]
     },
     "execution_count": 15,
     "metadata": {},
     "output_type": "execute_result"
    }
   ],
   "source": [
    "# Testing the next_move function\n",
    "state = [[1,7,0],[5,2,6],[3,8,4]]\n",
    "next_move(state)"
   ]
  },
  {
   "cell_type": "code",
   "execution_count": 19,
   "metadata": {
    "collapsed": true
   },
   "outputs": [],
   "source": [
    "import copy\n",
    "\"\"\"\n",
    "This function creates the next states (child nodes) from the given\n",
    "current state. \n",
    "Arguments - \n",
    "crnt: A matrix of the current state in the search.\n",
    "move: A move from the current state.\n",
    "\"\"\"\n",
    "def get_next_state(crnt, move):\n",
    "    # Creating a deep copy of the current state so that I can\n",
    "    # update the child node properly without modifying crnt.\n",
    "    child = copy.deepcopy(crnt)\n",
    "    # Switching the values of the blank space in the current state \n",
    "    # with the value that we are moving.\n",
    "    child[move[0][0]][move[0][1]] = crnt[move[1][0]][move[1][1]] # the new blank space\n",
    "    child[move[1][0]][move[1][1]] = crnt[move[0][0]][move[0][1]] # the moved piece\n",
    "    \n",
    "    return child"
   ]
  },
  {
   "cell_type": "code",
   "execution_count": 61,
   "metadata": {},
   "outputs": [
    {
     "name": "stdout",
     "output_type": "stream",
     "text": [
      "((1, 1), (0, 1))\n",
      "[[8, 7, 1], [6, 0, 2], [5, 4, 3]]\n",
      "((0, 0), (0, 1))\n",
      "[[0, 8, 1], [6, 7, 2], [5, 4, 3]]\n",
      "((0, 2), (0, 1))\n",
      "[[8, 1, 0], [6, 7, 2], [5, 4, 3]]\n"
     ]
    }
   ],
   "source": [
    "# Testing get_next_state function\n",
    "state = [[8,0,1],[6,7,2],[5,4,3]]\n",
    "mv = next_move(state)\n",
    "for move in mv:\n",
    "    print(move)\n",
    "    print(get_next_state(state,move))"
   ]
  },
  {
   "cell_type": "code",
   "execution_count": 18,
   "metadata": {
    "collapsed": true
   },
   "outputs": [],
   "source": [
    "# Function that determines whether or not the search has \n",
    "# reached the goal state given the current state.\n",
    "# Arguments:\n",
    "# crnt: The current state in the search.\n",
    "# goal: the goal state of the search.\n",
    "# Return:\n",
    "# \n",
    "def goal_state(crnt, goal):\n",
    "    # Compares the crnt and goal matrices to determine if they \n",
    "    # are equivalent.\n",
    "    return(crnt == goal)"
   ]
  },
  {
   "cell_type": "code",
   "execution_count": null,
   "metadata": {
    "collapsed": true
   },
   "outputs": [],
   "source": []
  }
 ],
 "metadata": {
  "kernelspec": {
   "display_name": "Python 3",
   "language": "python",
   "name": "python3"
  },
  "language_info": {
   "codemirror_mode": {
    "name": "ipython",
    "version": 3
   },
   "file_extension": ".py",
   "mimetype": "text/x-python",
   "name": "python",
   "nbconvert_exporter": "python",
   "pygments_lexer": "ipython3",
   "version": "3.6.5"
  }
 },
 "nbformat": 4,
 "nbformat_minor": 2
}
